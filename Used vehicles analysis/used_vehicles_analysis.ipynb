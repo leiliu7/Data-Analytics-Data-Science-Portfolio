{
 "cells": [
  {
   "cell_type": "markdown",
   "id": "dd9033ea-25e4-4970-8a3a-33cc515e6158",
   "metadata": {},
   "source": [
    "# Used Vehicles Analysis and Price Prediction"
   ]
  },
  {
   "attachments": {},
   "cell_type": "markdown",
   "id": "164bbe89-2bbc-42b1-ba11-0e20da10de5d",
   "metadata": {
    "editable": true,
    "slideshow": {
     "slide_type": ""
    },
    "tags": []
   },
   "source": [
    "\n",
    "* About the data set:\n",
    "\n",
    "  * This data set is used vehicles data publically available on https://www.kaggle.com/datasets/austinreese/craigslist-carstrucks-data\n",
    " \n",
    "\n",
    "* Description of data attributes:\n",
    "  * 'year':  model year of a vehicle | int32 \n",
    "  * 'manufacturer':  maker of a vehicle | categorical\n",
    "  * 'cylinder':  cylinder size of a vehicle | categorical\n",
    "  * 'type':  body type of a vehicle | categorical\n",
    "  * 'paint_color':  color of a vehicle | categorical\n",
    "  * 'region': region where the vehicle was listed | categorical\n",
    "  * 'state':  state where the vehicle was listed | categorical\n",
    "  *  'price': listing price on Craigslist.org | float\n",
    "* In descriptic analysis, I explore which feature group(s) of vehicles have greater impact on listing prices, then followed with a correlation analysis of numerical varialbes(including converted categorical variable to numeric variable).\n",
    "\n",
    "* In inferential analysis, I use the linear regression machine learning method to build five models, selecting the most accurate one to predict the price of used vehicles as desired.\n",
    "\n",
    "\n"
   ]
  },
  {
   "cell_type": "markdown",
   "id": "5ac61265-f3a6-412b-8f2b-e01b6002e9f2",
   "metadata": {},
   "source": [
    "# Part 1: Import libraries, load data"
   ]
  },
  {
   "cell_type": "code",
   "execution_count": 130,
   "id": "8599ceea-976b-4e49-b30e-61c0f24f9ba6",
   "metadata": {},
   "outputs": [],
   "source": [
    "\n",
    "# Import necessary libraries:\n",
    "import kagglehub\n",
    "import modin.pandas as pd\n",
    "import pandas as pd\n",
    "import numpy as np\n",
    "\n",
    "import matplotlib.pyplot as plt \n",
    "%matplotlib inline\n",
    "import seaborn as sns\n",
    "from sklearn.preprocessing import StandardScaler, OneHotEncoder\n",
    "from sklearn.linear_model import LinearRegression\n",
    "from sklearn.tree import DecisionTreeRegressor\n",
    "from sklearn.ensemble import RandomForestRegressor,ExtraTreesRegressor\n",
    "import statsmodels.api as sm\n",
    "import statsmodels.formula.api as smf\n",
    "from statsmodels.formula.api import ols\n",
    "\n",
    "from sklearn.metrics import r2_score\n",
    "import warnings\n",
    "warnings.filterwarnings(\"ignore\")\n"
   ]
  },
  {
   "cell_type": "code",
   "execution_count": 80,
   "id": "47812a28-c7ea-4533-947e-7f18151828a4",
   "metadata": {},
   "outputs": [
    {
     "name": "stdout",
     "output_type": "stream",
     "text": [
      "Warning: Looks like you're using an outdated `kagglehub` version (installed: 0.3.11), please consider upgrading to the latest version (0.3.12).\n",
      "Path to dataset files: C:\\Users\\szlau\\.cache\\kagglehub\\datasets\\austinreese\\craigslist-carstrucks-data\\versions\\10\n"
     ]
    }
   ],
   "source": [
    "import kagglehub\n",
    "\n",
    "# Download latest version\n",
    "path = kagglehub.dataset_download(\"austinreese/craigslist-carstrucks-data\")\n",
    "\n",
    "print(\"Path to dataset files:\", path)"
   ]
  },
  {
   "cell_type": "code",
   "execution_count": 81,
   "id": "4defb305-2cfb-4ae2-9494-74537d720914",
   "metadata": {},
   "outputs": [],
   "source": [
    "# Load dataset:\n",
    "data = pd.read_csv('vehicles.csv', header=0)\n",
    "\n",
    "# remove white space from cell and header\n",
    "data = data.apply(lambda x: x.astype(str).str.strip() if x.dtype == \"object\" else x)\n",
    "data.columns=data.columns.str.strip()\n"
   ]
  },
  {
   "cell_type": "markdown",
   "id": "bfe1905c-189a-4e3f-bbdb-9c1f018a9e8c",
   "metadata": {},
   "source": [
    "# Part 2: Data Wrangling"
   ]
  },
  {
   "cell_type": "code",
   "execution_count": 84,
   "id": "d94f1f24-8fcf-45cd-8932-e98c7468f066",
   "metadata": {},
   "outputs": [
    {
     "data": {
      "text/plain": [
       "(426880, 26)"
      ]
     },
     "execution_count": 84,
     "metadata": {},
     "output_type": "execute_result"
    }
   ],
   "source": [
    "data.shape"
   ]
  },
  {
   "cell_type": "code",
   "execution_count": 85,
   "id": "1466c218-c627-477a-b089-36c46a87e030",
   "metadata": {},
   "outputs": [
    {
     "data": {
      "text/plain": [
       "Index(['id', 'url', 'region', 'region_url', 'price', 'year', 'manufacturer',\n",
       "       'model', 'condition', 'cylinders', 'fuel', 'odometer', 'title_status',\n",
       "       'transmission', 'VIN', 'drive', 'size', 'type', 'paint_color',\n",
       "       'image_url', 'description', 'county', 'state', 'lat', 'long',\n",
       "       'posting_date'],\n",
       "      dtype='object')"
      ]
     },
     "execution_count": 85,
     "metadata": {},
     "output_type": "execute_result"
    }
   ],
   "source": [
    "data.columns"
   ]
  },
  {
   "cell_type": "code",
   "execution_count": 86,
   "id": "a75726bd-9f60-4157-a737-f0d5e24f1c39",
   "metadata": {},
   "outputs": [
    {
     "data": {
      "text/html": [
       "<div>\n",
       "<style scoped>\n",
       "    .dataframe tbody tr th:only-of-type {\n",
       "        vertical-align: middle;\n",
       "    }\n",
       "\n",
       "    .dataframe tbody tr th {\n",
       "        vertical-align: top;\n",
       "    }\n",
       "\n",
       "    .dataframe thead th {\n",
       "        text-align: right;\n",
       "    }\n",
       "</style>\n",
       "<table border=\"1\" class=\"dataframe\">\n",
       "  <thead>\n",
       "    <tr style=\"text-align: right;\">\n",
       "      <th></th>\n",
       "      <th>id</th>\n",
       "      <th>url</th>\n",
       "      <th>region</th>\n",
       "      <th>region_url</th>\n",
       "      <th>price</th>\n",
       "      <th>year</th>\n",
       "      <th>manufacturer</th>\n",
       "      <th>model</th>\n",
       "      <th>condition</th>\n",
       "      <th>cylinders</th>\n",
       "      <th>...</th>\n",
       "      <th>size</th>\n",
       "      <th>type</th>\n",
       "      <th>paint_color</th>\n",
       "      <th>image_url</th>\n",
       "      <th>description</th>\n",
       "      <th>county</th>\n",
       "      <th>state</th>\n",
       "      <th>lat</th>\n",
       "      <th>long</th>\n",
       "      <th>posting_date</th>\n",
       "    </tr>\n",
       "  </thead>\n",
       "  <tbody>\n",
       "    <tr>\n",
       "      <th>count</th>\n",
       "      <td>4.268800e+05</td>\n",
       "      <td>426880</td>\n",
       "      <td>426880</td>\n",
       "      <td>426880</td>\n",
       "      <td>4.268800e+05</td>\n",
       "      <td>425675.000000</td>\n",
       "      <td>426880</td>\n",
       "      <td>426880</td>\n",
       "      <td>426880</td>\n",
       "      <td>426880</td>\n",
       "      <td>...</td>\n",
       "      <td>426880</td>\n",
       "      <td>426880</td>\n",
       "      <td>426880</td>\n",
       "      <td>426880</td>\n",
       "      <td>426880</td>\n",
       "      <td>0.0</td>\n",
       "      <td>426880</td>\n",
       "      <td>420331.000000</td>\n",
       "      <td>420331.000000</td>\n",
       "      <td>426880</td>\n",
       "    </tr>\n",
       "    <tr>\n",
       "      <th>unique</th>\n",
       "      <td>NaN</td>\n",
       "      <td>426880</td>\n",
       "      <td>404</td>\n",
       "      <td>413</td>\n",
       "      <td>NaN</td>\n",
       "      <td>NaN</td>\n",
       "      <td>43</td>\n",
       "      <td>29668</td>\n",
       "      <td>7</td>\n",
       "      <td>9</td>\n",
       "      <td>...</td>\n",
       "      <td>5</td>\n",
       "      <td>14</td>\n",
       "      <td>13</td>\n",
       "      <td>241900</td>\n",
       "      <td>360912</td>\n",
       "      <td>NaN</td>\n",
       "      <td>51</td>\n",
       "      <td>NaN</td>\n",
       "      <td>NaN</td>\n",
       "      <td>381537</td>\n",
       "    </tr>\n",
       "    <tr>\n",
       "      <th>top</th>\n",
       "      <td>NaN</td>\n",
       "      <td>https://wyoming.craigslist.org/ctd/d/atlanta-2...</td>\n",
       "      <td>columbus</td>\n",
       "      <td>https://spokane.craigslist.org</td>\n",
       "      <td>NaN</td>\n",
       "      <td>NaN</td>\n",
       "      <td>ford</td>\n",
       "      <td>f-150</td>\n",
       "      <td>nan</td>\n",
       "      <td>nan</td>\n",
       "      <td>...</td>\n",
       "      <td>nan</td>\n",
       "      <td>nan</td>\n",
       "      <td>nan</td>\n",
       "      <td>https://images.craigslist.org/00N0N_1xMPvfxRAI...</td>\n",
       "      <td>35 VEHICLES PRICED UNDER $3000!!!  BIG TIME! T...</td>\n",
       "      <td>NaN</td>\n",
       "      <td>ca</td>\n",
       "      <td>NaN</td>\n",
       "      <td>NaN</td>\n",
       "      <td>nan</td>\n",
       "    </tr>\n",
       "    <tr>\n",
       "      <th>freq</th>\n",
       "      <td>NaN</td>\n",
       "      <td>1</td>\n",
       "      <td>3608</td>\n",
       "      <td>2988</td>\n",
       "      <td>NaN</td>\n",
       "      <td>NaN</td>\n",
       "      <td>70985</td>\n",
       "      <td>8009</td>\n",
       "      <td>174104</td>\n",
       "      <td>177678</td>\n",
       "      <td>...</td>\n",
       "      <td>306361</td>\n",
       "      <td>92858</td>\n",
       "      <td>130203</td>\n",
       "      <td>7357</td>\n",
       "      <td>231</td>\n",
       "      <td>NaN</td>\n",
       "      <td>50614</td>\n",
       "      <td>NaN</td>\n",
       "      <td>NaN</td>\n",
       "      <td>68</td>\n",
       "    </tr>\n",
       "    <tr>\n",
       "      <th>mean</th>\n",
       "      <td>7.311487e+09</td>\n",
       "      <td>NaN</td>\n",
       "      <td>NaN</td>\n",
       "      <td>NaN</td>\n",
       "      <td>7.519903e+04</td>\n",
       "      <td>2011.235191</td>\n",
       "      <td>NaN</td>\n",
       "      <td>NaN</td>\n",
       "      <td>NaN</td>\n",
       "      <td>NaN</td>\n",
       "      <td>...</td>\n",
       "      <td>NaN</td>\n",
       "      <td>NaN</td>\n",
       "      <td>NaN</td>\n",
       "      <td>NaN</td>\n",
       "      <td>NaN</td>\n",
       "      <td>NaN</td>\n",
       "      <td>NaN</td>\n",
       "      <td>38.493940</td>\n",
       "      <td>-94.748599</td>\n",
       "      <td>NaN</td>\n",
       "    </tr>\n",
       "    <tr>\n",
       "      <th>std</th>\n",
       "      <td>4.473170e+06</td>\n",
       "      <td>NaN</td>\n",
       "      <td>NaN</td>\n",
       "      <td>NaN</td>\n",
       "      <td>1.218228e+07</td>\n",
       "      <td>9.452120</td>\n",
       "      <td>NaN</td>\n",
       "      <td>NaN</td>\n",
       "      <td>NaN</td>\n",
       "      <td>NaN</td>\n",
       "      <td>...</td>\n",
       "      <td>NaN</td>\n",
       "      <td>NaN</td>\n",
       "      <td>NaN</td>\n",
       "      <td>NaN</td>\n",
       "      <td>NaN</td>\n",
       "      <td>NaN</td>\n",
       "      <td>NaN</td>\n",
       "      <td>5.841533</td>\n",
       "      <td>18.365462</td>\n",
       "      <td>NaN</td>\n",
       "    </tr>\n",
       "    <tr>\n",
       "      <th>min</th>\n",
       "      <td>7.207408e+09</td>\n",
       "      <td>NaN</td>\n",
       "      <td>NaN</td>\n",
       "      <td>NaN</td>\n",
       "      <td>0.000000e+00</td>\n",
       "      <td>1900.000000</td>\n",
       "      <td>NaN</td>\n",
       "      <td>NaN</td>\n",
       "      <td>NaN</td>\n",
       "      <td>NaN</td>\n",
       "      <td>...</td>\n",
       "      <td>NaN</td>\n",
       "      <td>NaN</td>\n",
       "      <td>NaN</td>\n",
       "      <td>NaN</td>\n",
       "      <td>NaN</td>\n",
       "      <td>NaN</td>\n",
       "      <td>NaN</td>\n",
       "      <td>-84.122245</td>\n",
       "      <td>-159.827728</td>\n",
       "      <td>NaN</td>\n",
       "    </tr>\n",
       "    <tr>\n",
       "      <th>25%</th>\n",
       "      <td>7.308143e+09</td>\n",
       "      <td>NaN</td>\n",
       "      <td>NaN</td>\n",
       "      <td>NaN</td>\n",
       "      <td>5.900000e+03</td>\n",
       "      <td>2008.000000</td>\n",
       "      <td>NaN</td>\n",
       "      <td>NaN</td>\n",
       "      <td>NaN</td>\n",
       "      <td>NaN</td>\n",
       "      <td>...</td>\n",
       "      <td>NaN</td>\n",
       "      <td>NaN</td>\n",
       "      <td>NaN</td>\n",
       "      <td>NaN</td>\n",
       "      <td>NaN</td>\n",
       "      <td>NaN</td>\n",
       "      <td>NaN</td>\n",
       "      <td>34.601900</td>\n",
       "      <td>-111.939847</td>\n",
       "      <td>NaN</td>\n",
       "    </tr>\n",
       "    <tr>\n",
       "      <th>50%</th>\n",
       "      <td>7.312621e+09</td>\n",
       "      <td>NaN</td>\n",
       "      <td>NaN</td>\n",
       "      <td>NaN</td>\n",
       "      <td>1.395000e+04</td>\n",
       "      <td>2013.000000</td>\n",
       "      <td>NaN</td>\n",
       "      <td>NaN</td>\n",
       "      <td>NaN</td>\n",
       "      <td>NaN</td>\n",
       "      <td>...</td>\n",
       "      <td>NaN</td>\n",
       "      <td>NaN</td>\n",
       "      <td>NaN</td>\n",
       "      <td>NaN</td>\n",
       "      <td>NaN</td>\n",
       "      <td>NaN</td>\n",
       "      <td>NaN</td>\n",
       "      <td>39.150100</td>\n",
       "      <td>-88.432600</td>\n",
       "      <td>NaN</td>\n",
       "    </tr>\n",
       "    <tr>\n",
       "      <th>75%</th>\n",
       "      <td>7.315254e+09</td>\n",
       "      <td>NaN</td>\n",
       "      <td>NaN</td>\n",
       "      <td>NaN</td>\n",
       "      <td>2.648575e+04</td>\n",
       "      <td>2017.000000</td>\n",
       "      <td>NaN</td>\n",
       "      <td>NaN</td>\n",
       "      <td>NaN</td>\n",
       "      <td>NaN</td>\n",
       "      <td>...</td>\n",
       "      <td>NaN</td>\n",
       "      <td>NaN</td>\n",
       "      <td>NaN</td>\n",
       "      <td>NaN</td>\n",
       "      <td>NaN</td>\n",
       "      <td>NaN</td>\n",
       "      <td>NaN</td>\n",
       "      <td>42.398900</td>\n",
       "      <td>-80.832039</td>\n",
       "      <td>NaN</td>\n",
       "    </tr>\n",
       "    <tr>\n",
       "      <th>max</th>\n",
       "      <td>7.317101e+09</td>\n",
       "      <td>NaN</td>\n",
       "      <td>NaN</td>\n",
       "      <td>NaN</td>\n",
       "      <td>3.736929e+09</td>\n",
       "      <td>2022.000000</td>\n",
       "      <td>NaN</td>\n",
       "      <td>NaN</td>\n",
       "      <td>NaN</td>\n",
       "      <td>NaN</td>\n",
       "      <td>...</td>\n",
       "      <td>NaN</td>\n",
       "      <td>NaN</td>\n",
       "      <td>NaN</td>\n",
       "      <td>NaN</td>\n",
       "      <td>NaN</td>\n",
       "      <td>NaN</td>\n",
       "      <td>NaN</td>\n",
       "      <td>82.390818</td>\n",
       "      <td>173.885502</td>\n",
       "      <td>NaN</td>\n",
       "    </tr>\n",
       "  </tbody>\n",
       "</table>\n",
       "<p>11 rows × 26 columns</p>\n",
       "</div>"
      ],
      "text/plain": [
       "                  id                                                url  \\\n",
       "count   4.268800e+05                                             426880   \n",
       "unique           NaN                                             426880   \n",
       "top              NaN  https://wyoming.craigslist.org/ctd/d/atlanta-2...   \n",
       "freq             NaN                                                  1   \n",
       "mean    7.311487e+09                                                NaN   \n",
       "std     4.473170e+06                                                NaN   \n",
       "min     7.207408e+09                                                NaN   \n",
       "25%     7.308143e+09                                                NaN   \n",
       "50%     7.312621e+09                                                NaN   \n",
       "75%     7.315254e+09                                                NaN   \n",
       "max     7.317101e+09                                                NaN   \n",
       "\n",
       "          region                      region_url         price           year  \\\n",
       "count     426880                          426880  4.268800e+05  425675.000000   \n",
       "unique       404                             413           NaN            NaN   \n",
       "top     columbus  https://spokane.craigslist.org           NaN            NaN   \n",
       "freq        3608                            2988           NaN            NaN   \n",
       "mean         NaN                             NaN  7.519903e+04    2011.235191   \n",
       "std          NaN                             NaN  1.218228e+07       9.452120   \n",
       "min          NaN                             NaN  0.000000e+00    1900.000000   \n",
       "25%          NaN                             NaN  5.900000e+03    2008.000000   \n",
       "50%          NaN                             NaN  1.395000e+04    2013.000000   \n",
       "75%          NaN                             NaN  2.648575e+04    2017.000000   \n",
       "max          NaN                             NaN  3.736929e+09    2022.000000   \n",
       "\n",
       "       manufacturer   model condition cylinders  ...    size    type  \\\n",
       "count        426880  426880    426880    426880  ...  426880  426880   \n",
       "unique           43   29668         7         9  ...       5      14   \n",
       "top            ford   f-150       nan       nan  ...     nan     nan   \n",
       "freq          70985    8009    174104    177678  ...  306361   92858   \n",
       "mean            NaN     NaN       NaN       NaN  ...     NaN     NaN   \n",
       "std             NaN     NaN       NaN       NaN  ...     NaN     NaN   \n",
       "min             NaN     NaN       NaN       NaN  ...     NaN     NaN   \n",
       "25%             NaN     NaN       NaN       NaN  ...     NaN     NaN   \n",
       "50%             NaN     NaN       NaN       NaN  ...     NaN     NaN   \n",
       "75%             NaN     NaN       NaN       NaN  ...     NaN     NaN   \n",
       "max             NaN     NaN       NaN       NaN  ...     NaN     NaN   \n",
       "\n",
       "       paint_color                                          image_url  \\\n",
       "count       426880                                             426880   \n",
       "unique          13                                             241900   \n",
       "top            nan  https://images.craigslist.org/00N0N_1xMPvfxRAI...   \n",
       "freq        130203                                               7357   \n",
       "mean           NaN                                                NaN   \n",
       "std            NaN                                                NaN   \n",
       "min            NaN                                                NaN   \n",
       "25%            NaN                                                NaN   \n",
       "50%            NaN                                                NaN   \n",
       "75%            NaN                                                NaN   \n",
       "max            NaN                                                NaN   \n",
       "\n",
       "                                              description county   state  \\\n",
       "count                                              426880    0.0  426880   \n",
       "unique                                             360912    NaN      51   \n",
       "top     35 VEHICLES PRICED UNDER $3000!!!  BIG TIME! T...    NaN      ca   \n",
       "freq                                                  231    NaN   50614   \n",
       "mean                                                  NaN    NaN     NaN   \n",
       "std                                                   NaN    NaN     NaN   \n",
       "min                                                   NaN    NaN     NaN   \n",
       "25%                                                   NaN    NaN     NaN   \n",
       "50%                                                   NaN    NaN     NaN   \n",
       "75%                                                   NaN    NaN     NaN   \n",
       "max                                                   NaN    NaN     NaN   \n",
       "\n",
       "                  lat           long posting_date  \n",
       "count   420331.000000  420331.000000       426880  \n",
       "unique            NaN            NaN       381537  \n",
       "top               NaN            NaN          nan  \n",
       "freq              NaN            NaN           68  \n",
       "mean        38.493940     -94.748599          NaN  \n",
       "std          5.841533      18.365462          NaN  \n",
       "min        -84.122245    -159.827728          NaN  \n",
       "25%         34.601900    -111.939847          NaN  \n",
       "50%         39.150100     -88.432600          NaN  \n",
       "75%         42.398900     -80.832039          NaN  \n",
       "max         82.390818     173.885502          NaN  \n",
       "\n",
       "[11 rows x 26 columns]"
      ]
     },
     "execution_count": 86,
     "metadata": {},
     "output_type": "execute_result"
    }
   ],
   "source": [
    "# statistical info including categorical variables\n",
    "data.describe(include='all')"
   ]
  },
  {
   "cell_type": "code",
   "execution_count": 87,
   "id": "10011d5f-52fa-4534-ad97-2a6d83c11855",
   "metadata": {},
   "outputs": [],
   "source": [
    "# add a column age, calculate the age of the vehicle by substracting model year from current year when the data was collected:\n",
    "\n",
    "data['age'] = 2022 - data['year'] "
   ]
  },
  {
   "cell_type": "code",
   "execution_count": 88,
   "id": "910e4e44-918a-45bf-abbd-e42ec8f38bf5",
   "metadata": {},
   "outputs": [],
   "source": [
    "data = data.replace('', np.nan)\n",
    "data = data.replace('?', np.nan)\n",
    "data = data.replace('nan', np.nan)"
   ]
  },
  {
   "cell_type": "code",
   "execution_count": 89,
   "id": "32f6c9b1-8c34-419b-bf32-98727f7dc329",
   "metadata": {},
   "outputs": [],
   "source": [
    "df =data.copy()"
   ]
  },
  {
   "cell_type": "code",
   "execution_count": 132,
   "id": "5e96089d-1ac9-4d9b-a88e-1ebdca2ce329",
   "metadata": {},
   "outputs": [],
   "source": [
    "# Drop columns that won't be useful for this analysis:\n",
    "df = data.drop(columns =['id','url','region','region_url','model','VIN','image_url','county','condition','size','title_status','description','posting_date'], axis=1)\n"
   ]
  },
  {
   "cell_type": "code",
   "execution_count": 134,
   "id": "fc71ec38-b055-43b1-8d7a-bd724401da07",
   "metadata": {},
   "outputs": [
    {
     "data": {
      "text/plain": [
       "price                0\n",
       "year              1205\n",
       "manufacturer     17646\n",
       "cylinders       177678\n",
       "fuel              3013\n",
       "odometer          4400\n",
       "transmission      2556\n",
       "drive           130567\n",
       "type             92858\n",
       "paint_color     130203\n",
       "state                0\n",
       "lat               6549\n",
       "long              6549\n",
       "age               1205\n",
       "dtype: int64"
      ]
     },
     "execution_count": 134,
     "metadata": {},
     "output_type": "execute_result"
    }
   ],
   "source": [
    "# check missing values in each column:\n",
    "df.isna().sum()"
   ]
  },
  {
   "cell_type": "markdown",
   "id": "056c6479-31d0-4b89-a044-764155ee7a8d",
   "metadata": {},
   "source": [
    "Based on above summary, the following shows column name and number of missing values:\n",
    "* year 1205\n",
    "* manufacturer 17,646\n",
    "* cylinders  177,678\n",
    "* fuel 3013\n",
    "* odometer 4400\n",
    "* transmission 2556\n",
    "* drive 130,567\n",
    "* type 92,858\n",
    "* paint_color  130,203\n",
    "* lat, long 6549\n"
   ]
  },
  {
   "cell_type": "markdown",
   "id": "f5b79f43-add9-4cae-998b-4c3419dad867",
   "metadata": {},
   "source": [
    "### Dealing with null values\n",
    "* Drop rows with missing values in columns of 'year','manufacturer','odometer', 'lat','long'.\n",
    "* Replace missing values with mean value for 'odometer'.\n",
    "* Replace missing values with common values for 'type', 'cylinders', 'fuel', 'transmission', 'drive', and 'paint_color'.\n"
   ]
  },
  {
   "cell_type": "code",
   "execution_count": 136,
   "id": "f454de85-56f6-4ead-b66f-3dba35186ddf",
   "metadata": {},
   "outputs": [
    {
     "data": {
      "text/plain": [
       "array([nan, '8 cylinders', '6 cylinders', '4 cylinders', '5 cylinders',\n",
       "       'other', '3 cylinders', '10 cylinders', '12 cylinders'],\n",
       "      dtype=object)"
      ]
     },
     "execution_count": 136,
     "metadata": {},
     "output_type": "execute_result"
    }
   ],
   "source": [
    "df.cylinders.unique()"
   ]
  },
  {
   "cell_type": "code",
   "execution_count": 74,
   "id": "170d27dc-67ed-49e8-ab4a-bdcf2db7e29b",
   "metadata": {},
   "outputs": [
    {
     "data": {
      "text/plain": [
       "cylinders\n",
       "6 cylinders     94169\n",
       "4 cylinders     77642\n",
       "8 cylinders     72062\n",
       "5 cylinders      1712\n",
       "10 cylinders     1455\n",
       "other            1298\n",
       "3 cylinders       655\n",
       "12 cylinders      209\n",
       "Name: count, dtype: int64"
      ]
     },
     "execution_count": 74,
     "metadata": {},
     "output_type": "execute_result"
    }
   ],
   "source": [
    "df.cylinders.value_counts()"
   ]
  },
  {
   "cell_type": "markdown",
   "id": "2d4c4bd6-cf42-4dca-addd-7b28bf762f7a",
   "metadata": {},
   "source": [
    "#### Drop missing values in columns: ['year','odometer','transmission','cylinders','fuel','drive','type','lat','long','age']"
   ]
  },
  {
   "cell_type": "code",
   "execution_count": 138,
   "id": "09054fbf-5e1b-46e4-98ba-9fa3e0cdcf85",
   "metadata": {},
   "outputs": [],
   "source": [
    "# drop num rows with null value of year\n",
    "\n",
    "df.dropna(subset=['year','odometer','transmission','cylinders','fuel','drive','type','lat','long','age'], axis=0, inplace=True)\n"
   ]
  },
  {
   "cell_type": "code",
   "execution_count": 140,
   "id": "31b43027-4a93-4561-abdf-e4a99fa06872",
   "metadata": {},
   "outputs": [
    {
     "data": {
      "text/plain": [
       "price               0\n",
       "year                0\n",
       "manufacturer     6003\n",
       "cylinders           0\n",
       "fuel                0\n",
       "odometer            0\n",
       "transmission        0\n",
       "drive               0\n",
       "type                0\n",
       "paint_color     26852\n",
       "state               0\n",
       "lat                 0\n",
       "long                0\n",
       "age                 0\n",
       "dtype: int64"
      ]
     },
     "execution_count": 140,
     "metadata": {},
     "output_type": "execute_result"
    }
   ],
   "source": [
    "df.isnull().sum()"
   ]
  },
  {
   "cell_type": "markdown",
   "id": "379cccc9-30d7-4ec1-b7a0-bf146e92fe80",
   "metadata": {},
   "source": [
    "#### Fill missing values with 0 in columns: ['manufacturer','paint_color']"
   ]
  },
  {
   "cell_type": "code",
   "execution_count": 142,
   "id": "9808fbe3-42a2-47f0-aeb3-be3df28aabd0",
   "metadata": {},
   "outputs": [
    {
     "data": {
      "text/plain": [
       "price           0\n",
       "year            0\n",
       "manufacturer    0\n",
       "cylinders       0\n",
       "fuel            0\n",
       "odometer        0\n",
       "transmission    0\n",
       "drive           0\n",
       "type            0\n",
       "paint_color     0\n",
       "state           0\n",
       "lat             0\n",
       "long            0\n",
       "age             0\n",
       "dtype: int64"
      ]
     },
     "execution_count": 142,
     "metadata": {},
     "output_type": "execute_result"
    }
   ],
   "source": [
    "df[['manufacturer','paint_color']] = df[['manufacturer','paint_color']].fillna('other')\n",
    "df.isna().sum()\n"
   ]
  },
  {
   "cell_type": "code",
   "execution_count": 144,
   "id": "40f986a0-e849-4fec-9824-e5b8559df2df",
   "metadata": {},
   "outputs": [
    {
     "data": {
      "text/plain": [
       "(185605, 14)"
      ]
     },
     "execution_count": 144,
     "metadata": {},
     "output_type": "execute_result"
    }
   ],
   "source": [
    "df.shape"
   ]
  },
  {
   "cell_type": "code",
   "execution_count": 154,
   "id": "f5c734d9-0f26-46f1-9b8f-32a9e95a0c1b",
   "metadata": {},
   "outputs": [
    {
     "name": "stdout",
     "output_type": "stream",
     "text": [
      "<class 'pandas.core.frame.DataFrame'>\n",
      "RangeIndex: 185605 entries, 0 to 185604\n",
      "Data columns (total 14 columns):\n",
      " #   Column        Non-Null Count   Dtype  \n",
      "---  ------        --------------   -----  \n",
      " 0   price         185605 non-null  int64  \n",
      " 1   year          185605 non-null  float64\n",
      " 2   manufacturer  185605 non-null  object \n",
      " 3   cylinders     185605 non-null  object \n",
      " 4   fuel          185605 non-null  object \n",
      " 5   odometer      185605 non-null  float64\n",
      " 6   transmission  185605 non-null  object \n",
      " 7   drive         185605 non-null  object \n",
      " 8   type          185605 non-null  object \n",
      " 9   paint_color   185605 non-null  object \n",
      " 10  state         185605 non-null  object \n",
      " 11  lat           185605 non-null  float64\n",
      " 12  long          185605 non-null  float64\n",
      " 13  age           185605 non-null  float64\n",
      "dtypes: float64(5), int64(1), object(8)\n",
      "memory usage: 19.8+ MB\n"
     ]
    }
   ],
   "source": [
    "\n",
    "# Reset index due to delection of rows.\n",
    "df = df.reset_index(drop=True)\n",
    "df.info()"
   ]
  },
  {
   "cell_type": "code",
   "execution_count": null,
   "id": "b3b84df5-722a-409e-8cf9-c44c54d4f677",
   "metadata": {},
   "outputs": [],
   "source": [
    "X_train, "
   ]
  },
  {
   "cell_type": "markdown",
   "id": "86cfba61-913f-4393-b303-94eb05f71e70",
   "metadata": {},
   "source": [
    "numerical_features = df.select_dtypes('number').columns.tolist()\n",
    "categorical_features = df.select_dtypes('object').columns.tolist()\n"
   ]
  },
  {
   "cell_type": "code",
   "execution_count": 156,
   "id": "4c4fe815-98a2-49a5-884e-5149588c782d",
   "metadata": {},
   "outputs": [],
   "source": [
    "# OneHot encoding for categorcal features\n"
   ]
  },
  {
   "cell_type": "markdown",
   "id": "6ac05c60-ed32-42db-adb9-054c66aac804",
   "metadata": {},
   "source": [
    "# before convert, you need to make sure no null values in cylinders\n",
    "\n",
    "df.cylinders = df.cylinders.replace({'8 cylinders': 8, '6 cylinders':6, '4 cylinders':4, '5 cylinders':5,\n",
    "       '10 cylinders':10, 'other':0, '3 cylinders':3, '12 cylinders':12}).astype(int)\n"
   ]
  },
  {
   "cell_type": "markdown",
   "id": "b46ad636-29cc-4a3f-af55-d4213d396870",
   "metadata": {},
   "source": [
    "# Ensure 'drive' is a string column:\n",
    "\n",
    "df['drive'] = df['drive'].astype(str)\n",
    "\n",
    "# Replace the values using a dictionary:\n",
    "df['drive'] = df['drive'].replace({'rwd': '1', '4wd': '3', 'fwd': '2'})\n",
    "\n",
    "# Convert 'drive' back to integer:\n",
    "df['drive'] = df['drive'].astype(int)\n",
    "\n",
    "# Check the unique values in the 'drive' column:\n",
    "print(df['drive'].unique())"
   ]
  },
  {
   "cell_type": "code",
   "execution_count": 35,
   "id": "43a19832-b93e-4c48-8a63-40142c4a2cea",
   "metadata": {},
   "outputs": [
    {
     "name": "stdout",
     "output_type": "stream",
     "text": [
      "<class 'pandas.core.frame.DataFrame'>\n",
      "RangeIndex: 185605 entries, 0 to 185604\n",
      "Data columns (total 14 columns):\n",
      " #   Column        Non-Null Count   Dtype  \n",
      "---  ------        --------------   -----  \n",
      " 0   price         185605 non-null  int64  \n",
      " 1   year          185605 non-null  float64\n",
      " 2   manufacturer  185605 non-null  object \n",
      " 3   cylinders     185605 non-null  int64  \n",
      " 4   fuel          185605 non-null  object \n",
      " 5   odometer      185605 non-null  float64\n",
      " 6   transmission  185605 non-null  object \n",
      " 7   drive         185605 non-null  int64  \n",
      " 8   type          185605 non-null  object \n",
      " 9   paint_color   185605 non-null  object \n",
      " 10  state         185605 non-null  object \n",
      " 11  lat           185605 non-null  float64\n",
      " 12  long          185605 non-null  float64\n",
      " 13  age           185605 non-null  float64\n",
      "dtypes: float64(5), int64(3), object(6)\n",
      "memory usage: 19.8+ MB\n"
     ]
    }
   ],
   "source": [
    "df.info()"
   ]
  },
  {
   "cell_type": "markdown",
   "id": "dfb18f12-f8d0-453f-90c5-5c82db934382",
   "metadata": {},
   "source": [
    "### Dealing with outliers\n"
   ]
  },
  {
   "cell_type": "code",
   "execution_count": 158,
   "id": "20b64837-3334-4414-87eb-3d68ef0d2d0e",
   "metadata": {},
   "outputs": [
    {
     "data": {
      "text/html": [
       "<div>\n",
       "<style scoped>\n",
       "    .dataframe tbody tr th:only-of-type {\n",
       "        vertical-align: middle;\n",
       "    }\n",
       "\n",
       "    .dataframe tbody tr th {\n",
       "        vertical-align: top;\n",
       "    }\n",
       "\n",
       "    .dataframe thead th {\n",
       "        text-align: right;\n",
       "    }\n",
       "</style>\n",
       "<table border=\"1\" class=\"dataframe\">\n",
       "  <thead>\n",
       "    <tr style=\"text-align: right;\">\n",
       "      <th></th>\n",
       "      <th>price</th>\n",
       "      <th>year</th>\n",
       "      <th>odometer</th>\n",
       "      <th>lat</th>\n",
       "      <th>long</th>\n",
       "      <th>age</th>\n",
       "    </tr>\n",
       "  </thead>\n",
       "  <tbody>\n",
       "    <tr>\n",
       "      <th>count</th>\n",
       "      <td>1.856050e+05</td>\n",
       "      <td>185605.000000</td>\n",
       "      <td>1.856050e+05</td>\n",
       "      <td>185605.000000</td>\n",
       "      <td>185605.000000</td>\n",
       "      <td>185605.000000</td>\n",
       "    </tr>\n",
       "    <tr>\n",
       "      <th>mean</th>\n",
       "      <td>4.584441e+04</td>\n",
       "      <td>2010.362625</td>\n",
       "      <td>1.048236e+05</td>\n",
       "      <td>38.848961</td>\n",
       "      <td>-95.599493</td>\n",
       "      <td>11.637375</td>\n",
       "    </tr>\n",
       "    <tr>\n",
       "      <th>std</th>\n",
       "      <td>9.068644e+06</td>\n",
       "      <td>9.651575</td>\n",
       "      <td>1.987641e+05</td>\n",
       "      <td>6.004434</td>\n",
       "      <td>18.815651</td>\n",
       "      <td>9.651575</td>\n",
       "    </tr>\n",
       "    <tr>\n",
       "      <th>min</th>\n",
       "      <td>0.000000e+00</td>\n",
       "      <td>1900.000000</td>\n",
       "      <td>0.000000e+00</td>\n",
       "      <td>-84.122245</td>\n",
       "      <td>-159.719900</td>\n",
       "      <td>0.000000</td>\n",
       "    </tr>\n",
       "    <tr>\n",
       "      <th>25%</th>\n",
       "      <td>5.600000e+03</td>\n",
       "      <td>2007.000000</td>\n",
       "      <td>4.830200e+04</td>\n",
       "      <td>35.069609</td>\n",
       "      <td>-114.981000</td>\n",
       "      <td>6.000000</td>\n",
       "    </tr>\n",
       "    <tr>\n",
       "      <th>50%</th>\n",
       "      <td>1.199500e+04</td>\n",
       "      <td>2013.000000</td>\n",
       "      <td>9.598500e+04</td>\n",
       "      <td>39.578815</td>\n",
       "      <td>-89.613253</td>\n",
       "      <td>9.000000</td>\n",
       "    </tr>\n",
       "    <tr>\n",
       "      <th>75%</th>\n",
       "      <td>2.478800e+04</td>\n",
       "      <td>2016.000000</td>\n",
       "      <td>1.406200e+05</td>\n",
       "      <td>42.595900</td>\n",
       "      <td>-81.050000</td>\n",
       "      <td>15.000000</td>\n",
       "    </tr>\n",
       "    <tr>\n",
       "      <th>max</th>\n",
       "      <td>3.736929e+09</td>\n",
       "      <td>2022.000000</td>\n",
       "      <td>1.000000e+07</td>\n",
       "      <td>82.252826</td>\n",
       "      <td>139.691700</td>\n",
       "      <td>122.000000</td>\n",
       "    </tr>\n",
       "  </tbody>\n",
       "</table>\n",
       "</div>"
      ],
      "text/plain": [
       "              price           year      odometer            lat  \\\n",
       "count  1.856050e+05  185605.000000  1.856050e+05  185605.000000   \n",
       "mean   4.584441e+04    2010.362625  1.048236e+05      38.848961   \n",
       "std    9.068644e+06       9.651575  1.987641e+05       6.004434   \n",
       "min    0.000000e+00    1900.000000  0.000000e+00     -84.122245   \n",
       "25%    5.600000e+03    2007.000000  4.830200e+04      35.069609   \n",
       "50%    1.199500e+04    2013.000000  9.598500e+04      39.578815   \n",
       "75%    2.478800e+04    2016.000000  1.406200e+05      42.595900   \n",
       "max    3.736929e+09    2022.000000  1.000000e+07      82.252826   \n",
       "\n",
       "                long            age  \n",
       "count  185605.000000  185605.000000  \n",
       "mean      -95.599493      11.637375  \n",
       "std        18.815651       9.651575  \n",
       "min      -159.719900       0.000000  \n",
       "25%      -114.981000       6.000000  \n",
       "50%       -89.613253       9.000000  \n",
       "75%       -81.050000      15.000000  \n",
       "max       139.691700     122.000000  "
      ]
     },
     "execution_count": 158,
     "metadata": {},
     "output_type": "execute_result"
    }
   ],
   "source": [
    "\n",
    "# Finding describtive info for numerical variables\n",
    "df.describe()"
   ]
  },
  {
   "cell_type": "markdown",
   "id": "f7c26c2b-11c6-462c-af77-ec53b7cc33c7",
   "metadata": {},
   "source": [
    "### Definition of outliers\n",
    "* larger than Q3 by at least 1.5 times the interquartile range (IQR), or\n",
    "* smaller than Q1 by at least 1.5 times the IQR.\n",
    "### Findng price outliers:\n",
    "* Q1 (25%) = 5600\n",
    "* Q3 (75%) = 24788\n",
    "* IQR = Q3 - Q1 = 19188\n",
    "* Outlier > 24788 + (1.5 * 19188)\n",
    "* Outlier > 53570\n",
    "### Finding year outliers:\n",
    "* Q1 (25%) = 2007\n",
    "* Q3 (75%) = 2016\n",
    "* IQR = Q3 - Q1 = 9\n",
    "* Outlier < 2008 - (1.5 * 9)\n",
    "* Outlier < 1994"
   ]
  },
  {
   "cell_type": "markdown",
   "id": "436f081d-2703-471b-9a49-97f711517a89",
   "metadata": {},
   "source": [
    "### Based on statistical summary and visulization plot:\n",
    "* observations with price over $57488 are outliers.\n",
    "* observations with year older than 1995 are outliers.\n"
   ]
  },
  {
   "cell_type": "code",
   "execution_count": 195,
   "id": "f8b5c5f4-b694-4979-9515-b964b3b29281",
   "metadata": {},
   "outputs": [
    {
     "name": "stdout",
     "output_type": "stream",
     "text": [
      "11111\n",
      "7424\n"
     ]
    }
   ],
   "source": [
    "\n",
    "# print out number of outliers \n",
    "print(len(df[df['price'] > 40570]))\n",
    "print(len(df[df['year'] < 1994]))\n"
   ]
  },
  {
   "cell_type": "markdown",
   "id": "64fd9331-fc05-48de-aa38-c983ecd93a4b",
   "metadata": {},
   "source": [
    "### Remove Outliers "
   ]
  },
  {
   "cell_type": "code",
   "execution_count": 183,
   "id": "5ef66fcd-c285-4d6e-aabd-35166bb2f86c",
   "metadata": {},
   "outputs": [],
   "source": [
    "\n",
    "# Removing outliers and extremly cheap ones, and reset index\n",
    "dfc = df[(df['year'] >= 1994) & (df['price'] > 2000) & (df['price']<= 53570)]\n",
    "dfc = dfc.reset_index(drop=True)\n"
   ]
  },
  {
   "cell_type": "code",
   "execution_count": 185,
   "id": "47f89337-5a80-4bd5-8b18-24314bb2b710",
   "metadata": {},
   "outputs": [
    {
     "data": {
      "text/plain": [
       "(154112, 14)"
      ]
     },
     "execution_count": 185,
     "metadata": {},
     "output_type": "execute_result"
    }
   ],
   "source": [
    "\n",
    "# Save the file to csv file\n",
    "dfc.to_csv('vehicles_clean_data.csv')\n",
    "dfc.shape"
   ]
  },
  {
   "cell_type": "markdown",
   "id": "f006fce7-f098-454a-b8bd-eeae9c1080dc",
   "metadata": {},
   "source": [
    "#### There are total 158948 observations and 14 columns"
   ]
  },
  {
   "cell_type": "code",
   "execution_count": 528,
   "id": "7174c4bb-f302-4872-b28d-279cfc9904c9",
   "metadata": {},
   "outputs": [
    {
     "data": {
      "text/plain": [
       "'\\ndfc.year = dfc.year / dfc.year.max()\\ndfc.cylinders = dfc.cylinders / dfc.cylinders.max()\\ndfc.odometer = dfc.odometer / dfc.odometer.max()\\ndfc.age = dfc.age / dfc.age.max()\\n\\n'"
      ]
     },
     "execution_count": 528,
     "metadata": {},
     "output_type": "execute_result"
    }
   ],
   "source": [
    "'''\n",
    "dfc.year = dfc.year / dfc.year.max()\n",
    "dfc.cylinders = dfc.cylinders / dfc.cylinders.max()\n",
    "dfc.odometer = dfc.odometer / dfc.odometer.max()\n",
    "dfc.age = dfc.age / dfc.age.max()\n",
    "\n",
    "'''"
   ]
  },
  {
   "cell_type": "markdown",
   "id": "16039f7b-57e3-4d7f-b681-77ac417c8b27",
   "metadata": {},
   "source": [
    "# Part 3: Exploratory Data Analysis (EDA)"
   ]
  },
  {
   "cell_type": "markdown",
   "id": "e5989885-bf63-4ca8-8999-52fadbb879fa",
   "metadata": {},
   "source": [
    "#### Preliminary steps in data analysis to:\n",
    "* Summarize main characteristics of the data\n",
    "* Gain better understanding of the data set\n",
    "* Uncover relationships between variables\n",
    "* Extract important variables that have most impact on target 'price'"
   ]
  },
  {
   "cell_type": "markdown",
   "id": "1d8b6d31-3da9-4958-a6a0-90663d86738c",
   "metadata": {},
   "source": [
    "Objectives:\n",
    "* Descriptive Statistics\n",
    "* GroupBy\n",
    "* ANOVA\n",
    "* Correlation\n",
    "* Correlation-Statistics"
   ]
  },
  {
   "cell_type": "markdown",
   "id": "1e405748-0510-45cc-aa07-2262e67e8ee1",
   "metadata": {},
   "source": [
    "### Continuous Numerical Variables:\n",
    "* Contains any value within some range\n",
    "* Can be of type 'int' or 'float'"
   ]
  },
  {
   "cell_type": "markdown",
   "id": "b0a55510-7682-4ead-be52-7aa55f0f5159",
   "metadata": {},
   "source": [
    "### Visulizing numerical variables using scatterplots with fitted lines\n",
    "* If the values are randomly distributed on the graph, it indicates the linear model is a good fit."
   ]
  },
  {
   "cell_type": "code",
   "execution_count": 187,
   "id": "85632824-0771-4351-90fc-7e50ff5a6411",
   "metadata": {},
   "outputs": [
    {
     "data": {
      "image/png": "[encoded data removed]",
      "text/plain": [
       "<Figure size 640x480 with 1 Axes>"
      ]
     },
     "metadata": {},
     "output_type": "display_data"
    }
   ],
   "source": [
    "sns.scatterplot(data=dfc, x='odometer',y='price')\n",
    "sns.lineplot(data=dfc, x='odometer', y='price')\n",
    "plt.show()\n",
    "plt.close()"
   ]
  },
  {
   "cell_type": "code",
   "execution_count": 188,
   "id": "e876c3c3-10e0-47b2-86f7-5514ea886554",
   "metadata": {},
   "outputs": [
    {
     "data": {
      "image/png": "[encoded data removed]",
      "text/plain": [
       "<Figure size 640x480 with 1 Axes>"
      ]
     },
     "metadata": {},
     "output_type": "display_data"
    }
   ],
   "source": [
    "sns.scatterplot(data=dfc, x='age', y='price')\n",
    "plt.show()\n",
    "plt.close()"
   ]
  },
  {
   "cell_type": "code",
   "execution_count": 197,
   "id": "8cf135bf-8fa2-4a71-afe4-a346033105fe",
   "metadata": {},
   "outputs": [
    {
     "data": {
      "image/png": "[encoded data removed]",
      "text/plain": [
       "<Figure size 640x480 with 1 Axes>"
      ]
     },
     "metadata": {},
     "output_type": "display_data"
    }
   ],
   "source": [
    "sns.scatterplot(data=dfc, x='odometer', y='price')\n",
    "plt.show()\n",
    "plt.close()"
   ]
  },
  {
   "cell_type": "code",
   "execution_count": 177,
   "id": "433ddac8-69fe-4eb1-9696-d6fd8bb7947a",
   "metadata": {},
   "outputs": [
    {
     "data": {
      "image/png": "[encoded data removed]",
      "text/plain": [
       "<Figure size 640x480 with 1 Axes>"
      ]
     },
     "metadata": {},
     "output_type": "display_data"
    }
   ],
   "source": [
    "\n",
    "sns.residplot(data=dfc, x='age', y='price')\n",
    "plt.show()\n",
    "plt.close()"
   ]
  },
  {
   "cell_type": "code",
   "execution_count": 179,
   "id": "97ebfa13-534c-41fa-b0bc-4e3af53bc1fe",
   "metadata": {},
   "outputs": [
    {
     "data": {
      "image/png": "[encoded data removed]",
      "text/plain": [
       "<Figure size 640x480 with 1 Axes>"
      ]
     },
     "metadata": {},
     "output_type": "display_data"
    }
   ],
   "source": [
    "\n",
    "sns.residplot(data=dfc, x='odometer', y='price')\n",
    "plt.show()\n",
    "plt.close()"
   ]
  },
  {
   "cell_type": "code",
   "execution_count": 51,
   "id": "5a66b44c-92da-40b4-a0ec-db9aa9646097",
   "metadata": {},
   "outputs": [
    {
     "data": {
      "image/png": "[encoded data removed]",
      "text/plain": [
       "<Figure size 640x480 with 1 Axes>"
      ]
     },
     "metadata": {},
     "output_type": "display_data"
    }
   ],
   "source": [
    "\n",
    "sns.regplot(x='age', y='price', data=dfc)\n",
    "plt.ylim(0,)\n",
    "plt.show()\n",
    "plt.close()"
   ]
  },
  {
   "cell_type": "markdown",
   "id": "df64aa77-4ae3-49d1-95dc-adab08551872",
   "metadata": {},
   "source": [
    "#### Findings: 'age' has strong negative relationship with target variable 'price'"
   ]
  },
  {
   "cell_type": "code",
   "execution_count": 52,
   "id": "7827be6b-7db2-4ccf-a4c0-2df6afc077c8",
   "metadata": {},
   "outputs": [
    {
     "data": {
      "image/png": "[encoded data removed]",
      "text/plain": [
       "<Figure size 640x480 with 1 Axes>"
      ]
     },
     "metadata": {},
     "output_type": "display_data"
    }
   ],
   "source": [
    "sns.regplot(x='cylinders', y='price', data=dfc)\n",
    "plt.ylim(0,)\n",
    "plt.show()\n",
    "plt.close()"
   ]
  },
  {
   "cell_type": "markdown",
   "id": "6d1aae66-7a07-454c-9aa7-69082662f538",
   "metadata": {},
   "source": [
    "#### Findings: 'cylinders' has positive relatinship with target 'price'"
   ]
  },
  {
   "cell_type": "markdown",
   "id": "945f601a-5c2d-4200-aed2-3977b8a15eb7",
   "metadata": {},
   "source": [
    "### Categorical Variables\n"
   ]
  },
  {
   "cell_type": "code",
   "execution_count": 55,
   "id": "60ee55b4-b85f-4296-8bca-cc88bc46e011",
   "metadata": {},
   "outputs": [
    {
     "data": {
      "image/png": "[encoded data removed]",
      "text/plain": [
       "<Figure size 400x400 with 1 Axes>"
      ]
     },
     "metadata": {},
     "output_type": "display_data"
    }
   ],
   "source": [
    "\n",
    "plt.figure(figsize=(4,4))\n",
    "sns.boxplot(x = 'drive', y='price', data=dfc, hue='drive')\n",
    "plt.tight_layout()\n",
    "#plt.legend().remove()\n",
    "plt.grid(True)\n",
    "plt.show()\n",
    "plt.close()"
   ]
  },
  {
   "cell_type": "code",
   "execution_count": 57,
   "id": "af8555c5-d572-4442-8ca8-4d5fdcf866b5",
   "metadata": {},
   "outputs": [
    {
     "data": {
      "image/png": "[encoded data removed]",
      "text/plain": [
       "<Figure size 1000x400 with 1 Axes>"
      ]
     },
     "metadata": {},
     "output_type": "display_data"
    }
   ],
   "source": [
    "plt.figure(figsize=(10,4))\n",
    "sns.boxplot(x = 'paint_color', y='price', data=dfc, hue='paint_color')\n",
    "plt.legend().remove()\n",
    "plt.grid(True)\n",
    "plt.show()\n",
    "plt.close()"
   ]
  },
  {
   "cell_type": "markdown",
   "id": "0fc81698-24d1-45d7-8685-0c8030264af7",
   "metadata": {},
   "source": [
    "#### Findings from color box plots:\n",
    "* White vehicles has highest median price\n",
    "* Green has the lowest median price"
   ]
  },
  {
   "cell_type": "code",
   "execution_count": 60,
   "id": "3c4973c4-69fe-491d-ad28-810c1dc488cc",
   "metadata": {},
   "outputs": [
    {
     "data": {
      "image/png": "[encoded data removed]",
      "text/plain": [
       "<Figure size 1000x400 with 1 Axes>"
      ]
     },
     "metadata": {},
     "output_type": "display_data"
    }
   ],
   "source": [
    "plt.figure(figsize=(10,4))\n",
    "sns.boxplot(x = 'type', y='price', data=dfc)\n",
    "\n",
    "plt.grid(True)\n",
    "plt.xticks(rotation=45)\n",
    "plt.show()\n",
    "plt.close()"
   ]
  },
  {
   "cell_type": "markdown",
   "id": "e8ed7d11-d1a0-41f2-85c7-f73c1b2379e3",
   "metadata": {},
   "source": [
    "#### Findings: pickup and truck have the highest median price"
   ]
  },
  {
   "cell_type": "markdown",
   "id": "b6effae8-68f7-4f93-a9e8-b21b1d4def04",
   "metadata": {},
   "source": [
    "### Descriptive Statistical Analysis\n",
    "* the count of the variable\n",
    "* the mean\n",
    "* the standard deviation (std)\n",
    "* the minimum value\n",
    "* the IQR\n",
    "* the maximum value"
   ]
  },
  {
   "cell_type": "code",
   "execution_count": 62,
   "id": "f3fceb5c-2914-40f6-a9ee-abd2f20a6558",
   "metadata": {},
   "outputs": [
    {
     "data": {
      "text/html": [
       "<div>\n",
       "<style scoped>\n",
       "    .dataframe tbody tr th:only-of-type {\n",
       "        vertical-align: middle;\n",
       "    }\n",
       "\n",
       "    .dataframe tbody tr th {\n",
       "        vertical-align: top;\n",
       "    }\n",
       "\n",
       "    .dataframe thead th {\n",
       "        text-align: right;\n",
       "    }\n",
       "</style>\n",
       "<table border=\"1\" class=\"dataframe\">\n",
       "  <thead>\n",
       "    <tr style=\"text-align: right;\">\n",
       "      <th></th>\n",
       "      <th>price</th>\n",
       "      <th>year</th>\n",
       "      <th>cylinders</th>\n",
       "      <th>odometer</th>\n",
       "      <th>drive</th>\n",
       "      <th>lat</th>\n",
       "      <th>long</th>\n",
       "      <th>age</th>\n",
       "    </tr>\n",
       "  </thead>\n",
       "  <tbody>\n",
       "    <tr>\n",
       "      <th>count</th>\n",
       "      <td>154112.000000</td>\n",
       "      <td>154112.000000</td>\n",
       "      <td>154112.000000</td>\n",
       "      <td>1.541120e+05</td>\n",
       "      <td>154112.000000</td>\n",
       "      <td>154112.000000</td>\n",
       "      <td>154112.000000</td>\n",
       "      <td>154112.000000</td>\n",
       "    </tr>\n",
       "    <tr>\n",
       "      <th>mean</th>\n",
       "      <td>17341.467219</td>\n",
       "      <td>2011.634701</td>\n",
       "      <td>5.863262</td>\n",
       "      <td>1.042539e+05</td>\n",
       "      <td>2.247398</td>\n",
       "      <td>38.788619</td>\n",
       "      <td>-94.607794</td>\n",
       "      <td>10.365299</td>\n",
       "    </tr>\n",
       "    <tr>\n",
       "      <th>std</th>\n",
       "      <td>11993.148095</td>\n",
       "      <td>5.521077</td>\n",
       "      <td>1.625938</td>\n",
       "      <td>1.089331e+05</td>\n",
       "      <td>0.765953</td>\n",
       "      <td>5.999275</td>\n",
       "      <td>18.488277</td>\n",
       "      <td>5.521077</td>\n",
       "    </tr>\n",
       "    <tr>\n",
       "      <th>min</th>\n",
       "      <td>2004.000000</td>\n",
       "      <td>1994.000000</td>\n",
       "      <td>0.000000</td>\n",
       "      <td>0.000000e+00</td>\n",
       "      <td>1.000000</td>\n",
       "      <td>-84.122245</td>\n",
       "      <td>-159.719900</td>\n",
       "      <td>0.000000</td>\n",
       "    </tr>\n",
       "    <tr>\n",
       "      <th>25%</th>\n",
       "      <td>7495.000000</td>\n",
       "      <td>2008.000000</td>\n",
       "      <td>4.000000</td>\n",
       "      <td>5.237175e+04</td>\n",
       "      <td>2.000000</td>\n",
       "      <td>35.087703</td>\n",
       "      <td>-111.640600</td>\n",
       "      <td>6.000000</td>\n",
       "    </tr>\n",
       "    <tr>\n",
       "      <th>50%</th>\n",
       "      <td>13990.000000</td>\n",
       "      <td>2013.000000</td>\n",
       "      <td>6.000000</td>\n",
       "      <td>9.960000e+04</td>\n",
       "      <td>2.000000</td>\n",
       "      <td>39.555745</td>\n",
       "      <td>-88.115246</td>\n",
       "      <td>9.000000</td>\n",
       "    </tr>\n",
       "    <tr>\n",
       "      <th>75%</th>\n",
       "      <td>25695.000000</td>\n",
       "      <td>2016.000000</td>\n",
       "      <td>8.000000</td>\n",
       "      <td>1.430000e+05</td>\n",
       "      <td>3.000000</td>\n",
       "      <td>42.484503</td>\n",
       "      <td>-80.656159</td>\n",
       "      <td>14.000000</td>\n",
       "    </tr>\n",
       "    <tr>\n",
       "      <th>max</th>\n",
       "      <td>53563.000000</td>\n",
       "      <td>2022.000000</td>\n",
       "      <td>12.000000</td>\n",
       "      <td>1.000000e+07</td>\n",
       "      <td>3.000000</td>\n",
       "      <td>82.252826</td>\n",
       "      <td>139.691700</td>\n",
       "      <td>28.000000</td>\n",
       "    </tr>\n",
       "  </tbody>\n",
       "</table>\n",
       "</div>"
      ],
      "text/plain": [
       "               price           year      cylinders      odometer  \\\n",
       "count  154112.000000  154112.000000  154112.000000  1.541120e+05   \n",
       "mean    17341.467219    2011.634701       5.863262  1.042539e+05   \n",
       "std     11993.148095       5.521077       1.625938  1.089331e+05   \n",
       "min      2004.000000    1994.000000       0.000000  0.000000e+00   \n",
       "25%      7495.000000    2008.000000       4.000000  5.237175e+04   \n",
       "50%     13990.000000    2013.000000       6.000000  9.960000e+04   \n",
       "75%     25695.000000    2016.000000       8.000000  1.430000e+05   \n",
       "max     53563.000000    2022.000000      12.000000  1.000000e+07   \n",
       "\n",
       "               drive            lat           long            age  \n",
       "count  154112.000000  154112.000000  154112.000000  154112.000000  \n",
       "mean        2.247398      38.788619     -94.607794      10.365299  \n",
       "std         0.765953       5.999275      18.488277       5.521077  \n",
       "min         1.000000     -84.122245    -159.719900       0.000000  \n",
       "25%         2.000000      35.087703    -111.640600       6.000000  \n",
       "50%         2.000000      39.555745     -88.115246       9.000000  \n",
       "75%         3.000000      42.484503     -80.656159      14.000000  \n",
       "max         3.000000      82.252826     139.691700      28.000000  "
      ]
     },
     "execution_count": 62,
     "metadata": {},
     "output_type": "execute_result"
    }
   ],
   "source": [
    "dfc.describe()"
   ]
  },
  {
   "cell_type": "markdown",
   "id": "1d526cd3-4a5c-437a-8664-da4fc74a9b25",
   "metadata": {},
   "source": [
    "#### Value Counts"
   ]
  },
  {
   "cell_type": "code",
   "execution_count": 65,
   "id": "5fea0c64-eeb5-4646-ac8c-6fbb1bdfa807",
   "metadata": {},
   "outputs": [
    {
     "data": {
      "image/png": "[encoded data removed]",
      "text/plain": [
       "<Figure size 1000x300 with 1 Axes>"
      ]
     },
     "metadata": {},
     "output_type": "display_data"
    }
   ],
   "source": [
    "# count by color group:\n",
    "plt.figure(figsize=(10,3))\n",
    "sns.countplot(data=dfc, x='paint_color',hue='paint_color')\n",
    "#plt.title('Figure 1: Total Count of Listings by Color')\n",
    "plt.ylabel('Count by Color')\n",
    "plt.legend().remove()\n",
    "plt.tight_layout()\n",
    "plt.show()\n",
    "plt.close()"
   ]
  },
  {
   "cell_type": "markdown",
   "id": "5bd2ecc2-4e74-4804-9261-596991af06d6",
   "metadata": {},
   "source": [
    "#### Findings: white color is the most popular color, followed by black."
   ]
  },
  {
   "cell_type": "code",
   "execution_count": 68,
   "id": "55a97bd4-23de-4b2e-b42b-691f45d05974",
   "metadata": {},
   "outputs": [
    {
     "data": {
      "image/png": "[encoded data removed]",
      "text/plain": [
       "<Figure size 400x400 with 1 Axes>"
      ]
     },
     "metadata": {},
     "output_type": "display_data"
    }
   ],
   "source": [
    "# count by drive group:\n",
    "plt.figure(figsize=(4,4))\n",
    "sns.countplot(data=dfc, x='drive', hue='drive')\n",
    "#plt.title('Figure 2: Total Count of Listings by Drive')\n",
    "plt.ylabel('Count by Drive')\n",
    "#plt.legend().remove()\n",
    "plt.show()\n",
    "plt.close()"
   ]
  },
  {
   "cell_type": "code",
   "execution_count": 70,
   "id": "d82bddb3-424a-48d6-8a84-5405e6a29105",
   "metadata": {},
   "outputs": [
    {
     "data": {
      "image/png": "[encoded data removed]",
      "text/plain": [
       "<Figure size 2000x300 with 1 Axes>"
      ]
     },
     "metadata": {},
     "output_type": "display_data"
    }
   ],
   "source": [
    "# count by manufacturer group:\n",
    "plt.figure(figsize=(20,3))\n",
    "sns.countplot(data=dfc, x='manufacturer', hue='manufacturer')\n",
    "#plt.title('Figure 2: Total Count of Listings by Manufacturer')\n",
    "plt.ylabel('Count by Manufacturer')\n",
    "plt.legend().remove()\n",
    "plt.xticks(rotation=45)\n",
    "plt.show()\n",
    "plt.close()"
   ]
  },
  {
   "cell_type": "markdown",
   "id": "7603049c-c401-400d-bd3e-0c11c1a3687e",
   "metadata": {},
   "source": [
    "#### Findings: Ford is the most popular make, followed by Chevrolet and Toyota"
   ]
  },
  {
   "cell_type": "code",
   "execution_count": 72,
   "id": "aa87df33-2169-4d01-9d29-6ba05bfacacd",
   "metadata": {},
   "outputs": [
    {
     "data": {
      "image/png": "[encoded data removed]",
      "text/plain": [
       "<Figure size 1500x300 with 1 Axes>"
      ]
     },
     "metadata": {},
     "output_type": "display_data"
    }
   ],
   "source": [
    "\n",
    "# count by year group:\n",
    "dfc.year = dfc.year.astype(int)\n",
    "plt.figure(figsize=(15,3))\n",
    "sns.countplot(data=dfc, x='year')\n",
    "#plt.title('Figure 3: Total Count of Listings by Year')\n",
    "plt.ylabel('Count by Year')\n",
    "plt.xticks(rotation=45)\n",
    "plt.show()\n",
    "plt.close()"
   ]
  },
  {
   "cell_type": "code",
   "execution_count": 75,
   "id": "e792dc3d-39a2-45a9-81ca-c95aa19ec315",
   "metadata": {},
   "outputs": [
    {
     "data": {
      "image/png": "[encoded data removed]",
      "text/plain": [
       "<Figure size 300x300 with 1 Axes>"
      ]
     },
     "metadata": {},
     "output_type": "display_data"
    }
   ],
   "source": [
    "plt.figure(figsize=(3, 3))\n",
    "sns.histplot(dfc['age'], kde=True, bins=20)\n",
    "# Show the plot\n",
    "plt.show()"
   ]
  },
  {
   "cell_type": "markdown",
   "id": "9b575616-fc6e-4b6f-9801-c7579be080de",
   "metadata": {},
   "source": [
    "#### Correlation between price and other variables\n",
    "* Close to +1: large positive relationship\n",
    "* Close to -1: large negative relationship\n",
    "* Close to 0: no relationship\n",
    "* P-value < 0.001: strong certainty in the result\n",
    "* P-value < 0.05: moderate certainty in the result\n",
    "* P-value < 0.1: week certainty in the result\n",
    "* P-value > 0.1: no certainty in the result"
   ]
  },
  {
   "cell_type": "markdown",
   "id": "c09d9d93-e047-47d0-b44d-024e9d944bda",
   "metadata": {},
   "source": [
    "'''\n",
    "from scipy import stats\n",
    "\n",
    "pearson_coef, p_value = stats.pearsonr(dfn.age, dfn.price)\n",
    "print(pearson_coef, p_value)\n",
    "'''"
   ]
  },
  {
   "cell_type": "markdown",
   "id": "949b097e-e740-448a-a559-d00329f9ec95",
   "metadata": {},
   "source": [
    "### Part 3 Summary: \n",
    "* white is the most common color.\n",
    "* 4wd is the most popular drive type, followed by fwd (front wheel drive).\n",
    "* Ford is the most popular make\n",
    "* pickup and truck have the highest median price\n",
    "* white color vehicles has the highest median price\n",
    "* 4wd and rwd (drive) have identical price range, fwd has much lower median and price range\n"
   ]
  },
  {
   "cell_type": "markdown",
   "id": "8bda5183-32af-413f-b387-81d8724ae222",
   "metadata": {},
   "source": [
    "# Part 4: Data Preparation for Modeling"
   ]
  },
  {
   "cell_type": "markdown",
   "id": "6eb49639-765c-4ad7-8cec-5270bf15a54b",
   "metadata": {},
   "source": [
    "### Data Normalization"
   ]
  },
  {
   "cell_type": "markdown",
   "id": "b3afe913-3411-4b60-a6fe-3ac049bbd52b",
   "metadata": {},
   "source": [
    "\n",
    "#### Methods of normalization\n",
    "* Simple feature scaling (range 0 ~ 1) : Xnew = Xold / Xmax \n",
    "\n",
    "* Min-Max (range 0 ~ 1): Xnew = (Xold - Xmin) / (Xmax - Xmin)\n",
    "\n",
    "* Z-score (range -3 ~ 3): Xnew = Xold - avg / std\n",
    "\n",
    "1. df.year = (df.year-df.year.mean())/df.year.std()\n",
    "\n"
   ]
  },
  {
   "cell_type": "markdown",
   "id": "0aad5597-1764-41e3-b40a-61d1603f2110",
   "metadata": {},
   "source": [
    "#### Using Z-score method for data normalization"
   ]
  },
  {
   "cell_type": "code",
   "execution_count": 77,
   "id": "59aba81e-bb65-4fb7-9859-720a004886e4",
   "metadata": {},
   "outputs": [],
   "source": [
    "\n",
    "# read csv file \n",
    "dfn = pd.read_csv('vehicles_clean_data.csv',index_col=0)\n",
    "\n",
    "# Using Z-score method for data normalization\n",
    "dfn.year = (dfn.year-dfn.year.mean())/dfn.year.std()\n",
    "dfn.cylinders = (dfn.cylinders-dfn.cylinders.mean())/dfn.cylinders.std()\n",
    "dfn.odometer = (dfn.odometer-dfn.odometer.mean())/dfn.odometer.std()\n",
    "dfn.age = (dfn.age-dfn.age.mean())/dfn.age.std()\n",
    "dfn.drive = (dfn.drive-dfn.drive.mean())/dfn.drive.std()\n",
    "dfn.price = (dfn.price-dfn.price.mean())/dfn.price.std()\n"
   ]
  },
  {
   "cell_type": "code",
   "execution_count": 79,
   "id": "6c60765e-3cc0-43fa-954e-f3c03510e38f",
   "metadata": {},
   "outputs": [
    {
     "data": {
      "text/html": [
       "<div>\n",
       "<style scoped>\n",
       "    .dataframe tbody tr th:only-of-type {\n",
       "        vertical-align: middle;\n",
       "    }\n",
       "\n",
       "    .dataframe tbody tr th {\n",
       "        vertical-align: top;\n",
       "    }\n",
       "\n",
       "    .dataframe thead th {\n",
       "        text-align: right;\n",
       "    }\n",
       "</style>\n",
       "<table border=\"1\" class=\"dataframe\">\n",
       "  <thead>\n",
       "    <tr style=\"text-align: right;\">\n",
       "      <th></th>\n",
       "      <th>price</th>\n",
       "      <th>year</th>\n",
       "      <th>cylinders</th>\n",
       "      <th>odometer</th>\n",
       "      <th>drive</th>\n",
       "      <th>lat</th>\n",
       "      <th>long</th>\n",
       "      <th>age</th>\n",
       "    </tr>\n",
       "  </thead>\n",
       "  <tbody>\n",
       "    <tr>\n",
       "      <th>count</th>\n",
       "      <td>1.541120e+05</td>\n",
       "      <td>1.541120e+05</td>\n",
       "      <td>1.541120e+05</td>\n",
       "      <td>1.541120e+05</td>\n",
       "      <td>1.541120e+05</td>\n",
       "      <td>154112.000000</td>\n",
       "      <td>154112.000000</td>\n",
       "      <td>1.541120e+05</td>\n",
       "    </tr>\n",
       "    <tr>\n",
       "      <th>mean</th>\n",
       "      <td>-4.794983e-18</td>\n",
       "      <td>9.159893e-15</td>\n",
       "      <td>2.500768e-16</td>\n",
       "      <td>6.586186e-17</td>\n",
       "      <td>-1.711440e-16</td>\n",
       "      <td>38.788619</td>\n",
       "      <td>-94.607794</td>\n",
       "      <td>-1.622917e-16</td>\n",
       "    </tr>\n",
       "    <tr>\n",
       "      <th>std</th>\n",
       "      <td>1.000000e+00</td>\n",
       "      <td>1.000000e+00</td>\n",
       "      <td>1.000000e+00</td>\n",
       "      <td>1.000000e+00</td>\n",
       "      <td>1.000000e+00</td>\n",
       "      <td>5.999275</td>\n",
       "      <td>18.488277</td>\n",
       "      <td>1.000000e+00</td>\n",
       "    </tr>\n",
       "    <tr>\n",
       "      <th>min</th>\n",
       "      <td>-1.278852e+00</td>\n",
       "      <td>-3.194069e+00</td>\n",
       "      <td>-3.606079e+00</td>\n",
       "      <td>-9.570451e-01</td>\n",
       "      <td>-1.628557e+00</td>\n",
       "      <td>-84.122245</td>\n",
       "      <td>-159.719900</td>\n",
       "      <td>-1.877405e+00</td>\n",
       "    </tr>\n",
       "    <tr>\n",
       "      <th>25%</th>\n",
       "      <td>-8.210077e-01</td>\n",
       "      <td>-6.583319e-01</td>\n",
       "      <td>-1.145961e+00</td>\n",
       "      <td>-4.762754e-01</td>\n",
       "      <td>-3.229937e-01</td>\n",
       "      <td>35.087703</td>\n",
       "      <td>-111.640600</td>\n",
       "      <td>-7.906609e-01</td>\n",
       "    </tr>\n",
       "    <tr>\n",
       "      <th>50%</th>\n",
       "      <td>-2.794485e-01</td>\n",
       "      <td>2.472886e-01</td>\n",
       "      <td>8.409803e-02</td>\n",
       "      <td>-4.272274e-02</td>\n",
       "      <td>-3.229937e-01</td>\n",
       "      <td>39.555745</td>\n",
       "      <td>-88.115246</td>\n",
       "      <td>-2.472886e-01</td>\n",
       "    </tr>\n",
       "    <tr>\n",
       "      <th>75%</th>\n",
       "      <td>6.965254e-01</td>\n",
       "      <td>7.906609e-01</td>\n",
       "      <td>1.314157e+00</td>\n",
       "      <td>3.556868e-01</td>\n",
       "      <td>9.825694e-01</td>\n",
       "      <td>42.484503</td>\n",
       "      <td>-80.656159</td>\n",
       "      <td>6.583319e-01</td>\n",
       "    </tr>\n",
       "    <tr>\n",
       "      <th>max</th>\n",
       "      <td>3.020186e+00</td>\n",
       "      <td>1.877405e+00</td>\n",
       "      <td>3.774275e+00</td>\n",
       "      <td>9.084239e+01</td>\n",
       "      <td>9.825694e-01</td>\n",
       "      <td>82.252826</td>\n",
       "      <td>139.691700</td>\n",
       "      <td>3.194069e+00</td>\n",
       "    </tr>\n",
       "  </tbody>\n",
       "</table>\n",
       "</div>"
      ],
      "text/plain": [
       "              price          year     cylinders      odometer         drive  \\\n",
       "count  1.541120e+05  1.541120e+05  1.541120e+05  1.541120e+05  1.541120e+05   \n",
       "mean  -4.794983e-18  9.159893e-15  2.500768e-16  6.586186e-17 -1.711440e-16   \n",
       "std    1.000000e+00  1.000000e+00  1.000000e+00  1.000000e+00  1.000000e+00   \n",
       "min   -1.278852e+00 -3.194069e+00 -3.606079e+00 -9.570451e-01 -1.628557e+00   \n",
       "25%   -8.210077e-01 -6.583319e-01 -1.145961e+00 -4.762754e-01 -3.229937e-01   \n",
       "50%   -2.794485e-01  2.472886e-01  8.409803e-02 -4.272274e-02 -3.229937e-01   \n",
       "75%    6.965254e-01  7.906609e-01  1.314157e+00  3.556868e-01  9.825694e-01   \n",
       "max    3.020186e+00  1.877405e+00  3.774275e+00  9.084239e+01  9.825694e-01   \n",
       "\n",
       "                 lat           long           age  \n",
       "count  154112.000000  154112.000000  1.541120e+05  \n",
       "mean       38.788619     -94.607794 -1.622917e-16  \n",
       "std         5.999275      18.488277  1.000000e+00  \n",
       "min       -84.122245    -159.719900 -1.877405e+00  \n",
       "25%        35.087703    -111.640600 -7.906609e-01  \n",
       "50%        39.555745     -88.115246 -2.472886e-01  \n",
       "75%        42.484503     -80.656159  6.583319e-01  \n",
       "max        82.252826     139.691700  3.194069e+00  "
      ]
     },
     "execution_count": 79,
     "metadata": {},
     "output_type": "execute_result"
    }
   ],
   "source": [
    "dfn.describe()"
   ]
  },
  {
   "cell_type": "markdown",
   "id": "e6a3a482-b30b-4418-960a-24109a050788",
   "metadata": {},
   "source": [
    "# Part 5: Model Development\n"
   ]
  },
  {
   "cell_type": "markdown",
   "id": "95143843-3a26-4709-9968-10eda77b3f9f",
   "metadata": {},
   "source": [
    "### Model 1: Multiple Linear Regression"
   ]
  },
  {
   "cell_type": "code",
   "execution_count": 81,
   "id": "dc27f8fa-7735-4eb9-8f6d-cf60b173c9ba",
   "metadata": {},
   "outputs": [],
   "source": [
    "# Define predictor variable and target variable\n",
    "X = dfc[['cylinders','odometer','drive','age']]\n",
    "y = dfc['price']  # target"
   ]
  },
  {
   "cell_type": "markdown",
   "id": "d2198de7-6dbb-41ee-a02a-d4442d99bcb1",
   "metadata": {},
   "source": [
    "#### Split data into train and test dataset"
   ]
  },
  {
   "cell_type": "code",
   "execution_count": 84,
   "id": "b799c2d2-e6d0-448b-a8f9-f1b1246f4236",
   "metadata": {},
   "outputs": [],
   "source": [
    "\n",
    "from sklearn.model_selection import train_test_split\n",
    "\n",
    "x_train, x_test, y_train, y_test = train_test_split(X,y, test_size=0.2, random_state=1)"
   ]
  },
  {
   "cell_type": "code",
   "execution_count": 86,
   "id": "c69c9e66-b9b1-4b21-a220-9cd47af19ba0",
   "metadata": {},
   "outputs": [],
   "source": [
    "\n",
    "from sklearn.linear_model import LinearRegression\n",
    "\n",
    "lr=LinearRegression()\n",
    "lr.fit(x_train, y_train)\n",
    "yhat=lr.predict(x_test)"
   ]
  },
  {
   "cell_type": "code",
   "execution_count": 90,
   "id": "1fc838dc-58a4-4588-8dc1-faa560824736",
   "metadata": {},
   "outputs": [
    {
     "data": {
      "text/plain": [
       "(123289, 15)"
      ]
     },
     "execution_count": 90,
     "metadata": {},
     "output_type": "execute_result"
    }
   ],
   "source": [
    "\n",
    "from sklearn.preprocessing import PolynomialFeatures\n",
    "\n",
    "pr=PolynomialFeatures()\n",
    "xpr=pr.fit_transform(x_train)\n",
    "xpr.shape"
   ]
  },
  {
   "cell_type": "markdown",
   "id": "a8b3548a-b82f-4439-9e92-f1a477e8a219",
   "metadata": {},
   "source": [
    "### Pipiline"
   ]
  },
  {
   "cell_type": "code",
   "execution_count": 92,
   "id": "dd5d4d03-2917-4701-8d1e-48b154cbc7c9",
   "metadata": {},
   "outputs": [],
   "source": [
    "from sklearn.pipeline import Pipeline\n",
    "from sklearn.preprocessing import StandardScaler"
   ]
  },
  {
   "cell_type": "code",
   "execution_count": 94,
   "id": "668877d6-9a4e-4f50-bf3b-c12212d2fc20",
   "metadata": {},
   "outputs": [
    {
     "data": {
      "text/html": [
       "<style>#sk-container-id-1 {\n",
       "  /* Definition of color scheme common for light and dark mode */\n",
       "  --sklearn-color-text: #000;\n",
       "  --sklearn-color-text-muted: #666;\n",
       "  --sklearn-color-line: gray;\n",
       "  /* Definition of color scheme for unfitted estimators */\n",
       "  --sklearn-color-unfitted-level-0: #fff5e6;\n",
       "  --sklearn-color-unfitted-level-1: #f6e4d2;\n",
       "  --sklearn-color-unfitted-level-2: #ffe0b3;\n",
       "  --sklearn-color-unfitted-level-3: chocolate;\n",
       "  /* Definition of color scheme for fitted estimators */\n",
       "  --sklearn-color-fitted-level-0: #f0f8ff;\n",
       "  --sklearn-color-fitted-level-1: #d4ebff;\n",
       "  --sklearn-color-fitted-level-2: #b3dbfd;\n",
       "  --sklearn-color-fitted-level-3: cornflowerblue;\n",
       "\n",
       "  /* Specific color for light theme */\n",
       "  --sklearn-color-text-on-default-background: var(--sg-text-color, var(--theme-code-foreground, var(--jp-content-font-color1, black)));\n",
       "  --sklearn-color-background: var(--sg-background-color, var(--theme-background, var(--jp-layout-color0, white)));\n",
       "  --sklearn-color-border-box: var(--sg-text-color, var(--theme-code-foreground, var(--jp-content-font-color1, black)));\n",
       "  --sklearn-color-icon: #696969;\n",
       "\n",
       "  @media (prefers-color-scheme: dark) {\n",
       "    /* Redefinition of color scheme for dark theme */\n",
       "    --sklearn-color-text-on-default-background: var(--sg-text-color, var(--theme-code-foreground, var(--jp-content-font-color1, white)));\n",
       "    --sklearn-color-background: var(--sg-background-color, var(--theme-background, var(--jp-layout-color0, #111)));\n",
       "    --sklearn-color-border-box: var(--sg-text-color, var(--theme-code-foreground, var(--jp-content-font-color1, white)));\n",
       "    --sklearn-color-icon: #878787;\n",
       "  }\n",
       "}\n",
       "\n",
       "#sk-container-id-1 {\n",
       "  color: var(--sklearn-color-text);\n",
       "}\n",
       "\n",
       "#sk-container-id-1 pre {\n",
       "  padding: 0;\n",
       "}\n",
       "\n",
       "#sk-container-id-1 input.sk-hidden--visually {\n",
       "  border: 0;\n",
       "  clip: rect(1px 1px 1px 1px);\n",
       "  clip: rect(1px, 1px, 1px, 1px);\n",
       "  height: 1px;\n",
       "  margin: -1px;\n",
       "  overflow: hidden;\n",
       "  padding: 0;\n",
       "  position: absolute;\n",
       "  width: 1px;\n",
       "}\n",
       "\n",
       "#sk-container-id-1 div.sk-dashed-wrapped {\n",
       "  border: 1px dashed var(--sklearn-color-line);\n",
       "  margin: 0 0.4em 0.5em 0.4em;\n",
       "  box-sizing: border-box;\n",
       "  padding-bottom: 0.4em;\n",
       "  background-color: var(--sklearn-color-background);\n",
       "}\n",
       "\n",
       "#sk-container-id-1 div.sk-container {\n",
       "  /* jupyter's `normalize.less` sets `[hidden] { display: none; }`\n",
       "     but bootstrap.min.css set `[hidden] { display: none !important; }`\n",
       "     so we also need the `!important` here to be able to override the\n",
       "     default hidden behavior on the sphinx rendered scikit-learn.org.\n",
       "     See: https://github.com/scikit-learn/scikit-learn/issues/21755 */\n",
       "  display: inline-block !important;\n",
       "  position: relative;\n",
       "}\n",
       "\n",
       "#sk-container-id-1 div.sk-text-repr-fallback {\n",
       "  display: none;\n",
       "}\n",
       "\n",
       "div.sk-parallel-item,\n",
       "div.sk-serial,\n",
       "div.sk-item {\n",
       "  /* draw centered vertical line to link estimators */\n",
       "  background-image: linear-gradient(var(--sklearn-color-text-on-default-background), var(--sklearn-color-text-on-default-background));\n",
       "  background-size: 2px 100%;\n",
       "  background-repeat: no-repeat;\n",
       "  background-position: center center;\n",
       "}\n",
       "\n",
       "/* Parallel-specific style estimator block */\n",
       "\n",
       "#sk-container-id-1 div.sk-parallel-item::after {\n",
       "  content: \"\";\n",
       "  width: 100%;\n",
       "  border-bottom: 2px solid var(--sklearn-color-text-on-default-background);\n",
       "  flex-grow: 1;\n",
       "}\n",
       "\n",
       "#sk-container-id-1 div.sk-parallel {\n",
       "  display: flex;\n",
       "  align-items: stretch;\n",
       "  justify-content: center;\n",
       "  background-color: var(--sklearn-color-background);\n",
       "  position: relative;\n",
       "}\n",
       "\n",
       "#sk-container-id-1 div.sk-parallel-item {\n",
       "  display: flex;\n",
       "  flex-direction: column;\n",
       "}\n",
       "\n",
       "#sk-container-id-1 div.sk-parallel-item:first-child::after {\n",
       "  align-self: flex-end;\n",
       "  width: 50%;\n",
       "}\n",
       "\n",
       "#sk-container-id-1 div.sk-parallel-item:last-child::after {\n",
       "  align-self: flex-start;\n",
       "  width: 50%;\n",
       "}\n",
       "\n",
       "#sk-container-id-1 div.sk-parallel-item:only-child::after {\n",
       "  width: 0;\n",
       "}\n",
       "\n",
       "/* Serial-specific style estimator block */\n",
       "\n",
       "#sk-container-id-1 div.sk-serial {\n",
       "  display: flex;\n",
       "  flex-direction: column;\n",
       "  align-items: center;\n",
       "  background-color: var(--sklearn-color-background);\n",
       "  padding-right: 1em;\n",
       "  padding-left: 1em;\n",
       "}\n",
       "\n",
       "\n",
       "/* Toggleable style: style used for estimator/Pipeline/ColumnTransformer box that is\n",
       "clickable and can be expanded/collapsed.\n",
       "- Pipeline and ColumnTransformer use this feature and define the default style\n",
       "- Estimators will overwrite some part of the style using the `sk-estimator` class\n",
       "*/\n",
       "\n",
       "/* Pipeline and ColumnTransformer style (default) */\n",
       "\n",
       "#sk-container-id-1 div.sk-toggleable {\n",
       "  /* Default theme specific background. It is overwritten whether we have a\n",
       "  specific estimator or a Pipeline/ColumnTransformer */\n",
       "  background-color: var(--sklearn-color-background);\n",
       "}\n",
       "\n",
       "/* Toggleable label */\n",
       "#sk-container-id-1 label.sk-toggleable__label {\n",
       "  cursor: pointer;\n",
       "  display: flex;\n",
       "  width: 100%;\n",
       "  margin-bottom: 0;\n",
       "  padding: 0.5em;\n",
       "  box-sizing: border-box;\n",
       "  text-align: center;\n",
       "  align-items: start;\n",
       "  justify-content: space-between;\n",
       "  gap: 0.5em;\n",
       "}\n",
       "\n",
       "#sk-container-id-1 label.sk-toggleable__label .caption {\n",
       "  font-size: 0.6rem;\n",
       "  font-weight: lighter;\n",
       "  color: var(--sklearn-color-text-muted);\n",
       "}\n",
       "\n",
       "#sk-container-id-1 label.sk-toggleable__label-arrow:before {\n",
       "  /* Arrow on the left of the label */\n",
       "  content: \"▸\";\n",
       "  float: left;\n",
       "  margin-right: 0.25em;\n",
       "  color: var(--sklearn-color-icon);\n",
       "}\n",
       "\n",
       "#sk-container-id-1 label.sk-toggleable__label-arrow:hover:before {\n",
       "  color: var(--sklearn-color-text);\n",
       "}\n",
       "\n",
       "/* Toggleable content - dropdown */\n",
       "\n",
       "#sk-container-id-1 div.sk-toggleable__content {\n",
       "  max-height: 0;\n",
       "  max-width: 0;\n",
       "  overflow: hidden;\n",
       "  text-align: left;\n",
       "  /* unfitted */\n",
       "  background-color: var(--sklearn-color-unfitted-level-0);\n",
       "}\n",
       "\n",
       "#sk-container-id-1 div.sk-toggleable__content.fitted {\n",
       "  /* fitted */\n",
       "  background-color: var(--sklearn-color-fitted-level-0);\n",
       "}\n",
       "\n",
       "#sk-container-id-1 div.sk-toggleable__content pre {\n",
       "  margin: 0.2em;\n",
       "  border-radius: 0.25em;\n",
       "  color: var(--sklearn-color-text);\n",
       "  /* unfitted */\n",
       "  background-color: var(--sklearn-color-unfitted-level-0);\n",
       "}\n",
       "\n",
       "#sk-container-id-1 div.sk-toggleable__content.fitted pre {\n",
       "  /* unfitted */\n",
       "  background-color: var(--sklearn-color-fitted-level-0);\n",
       "}\n",
       "\n",
       "#sk-container-id-1 input.sk-toggleable__control:checked~div.sk-toggleable__content {\n",
       "  /* Expand drop-down */\n",
       "  max-height: 200px;\n",
       "  max-width: 100%;\n",
       "  overflow: auto;\n",
       "}\n",
       "\n",
       "#sk-container-id-1 input.sk-toggleable__control:checked~label.sk-toggleable__label-arrow:before {\n",
       "  content: \"▾\";\n",
       "}\n",
       "\n",
       "/* Pipeline/ColumnTransformer-specific style */\n",
       "\n",
       "#sk-container-id-1 div.sk-label input.sk-toggleable__control:checked~label.sk-toggleable__label {\n",
       "  color: var(--sklearn-color-text);\n",
       "  background-color: var(--sklearn-color-unfitted-level-2);\n",
       "}\n",
       "\n",
       "#sk-container-id-1 div.sk-label.fitted input.sk-toggleable__control:checked~label.sk-toggleable__label {\n",
       "  background-color: var(--sklearn-color-fitted-level-2);\n",
       "}\n",
       "\n",
       "/* Estimator-specific style */\n",
       "\n",
       "/* Colorize estimator box */\n",
       "#sk-container-id-1 div.sk-estimator input.sk-toggleable__control:checked~label.sk-toggleable__label {\n",
       "  /* unfitted */\n",
       "  background-color: var(--sklearn-color-unfitted-level-2);\n",
       "}\n",
       "\n",
       "#sk-container-id-1 div.sk-estimator.fitted input.sk-toggleable__control:checked~label.sk-toggleable__label {\n",
       "  /* fitted */\n",
       "  background-color: var(--sklearn-color-fitted-level-2);\n",
       "}\n",
       "\n",
       "#sk-container-id-1 div.sk-label label.sk-toggleable__label,\n",
       "#sk-container-id-1 div.sk-label label {\n",
       "  /* The background is the default theme color */\n",
       "  color: var(--sklearn-color-text-on-default-background);\n",
       "}\n",
       "\n",
       "/* On hover, darken the color of the background */\n",
       "#sk-container-id-1 div.sk-label:hover label.sk-toggleable__label {\n",
       "  color: var(--sklearn-color-text);\n",
       "  background-color: var(--sklearn-color-unfitted-level-2);\n",
       "}\n",
       "\n",
       "/* Label box, darken color on hover, fitted */\n",
       "#sk-container-id-1 div.sk-label.fitted:hover label.sk-toggleable__label.fitted {\n",
       "  color: var(--sklearn-color-text);\n",
       "  background-color: var(--sklearn-color-fitted-level-2);\n",
       "}\n",
       "\n",
       "/* Estimator label */\n",
       "\n",
       "#sk-container-id-1 div.sk-label label {\n",
       "  font-family: monospace;\n",
       "  font-weight: bold;\n",
       "  display: inline-block;\n",
       "  line-height: 1.2em;\n",
       "}\n",
       "\n",
       "#sk-container-id-1 div.sk-label-container {\n",
       "  text-align: center;\n",
       "}\n",
       "\n",
       "/* Estimator-specific */\n",
       "#sk-container-id-1 div.sk-estimator {\n",
       "  font-family: monospace;\n",
       "  border: 1px dotted var(--sklearn-color-border-box);\n",
       "  border-radius: 0.25em;\n",
       "  box-sizing: border-box;\n",
       "  margin-bottom: 0.5em;\n",
       "  /* unfitted */\n",
       "  background-color: var(--sklearn-color-unfitted-level-0);\n",
       "}\n",
       "\n",
       "#sk-container-id-1 div.sk-estimator.fitted {\n",
       "  /* fitted */\n",
       "  background-color: var(--sklearn-color-fitted-level-0);\n",
       "}\n",
       "\n",
       "/* on hover */\n",
       "#sk-container-id-1 div.sk-estimator:hover {\n",
       "  /* unfitted */\n",
       "  background-color: var(--sklearn-color-unfitted-level-2);\n",
       "}\n",
       "\n",
       "#sk-container-id-1 div.sk-estimator.fitted:hover {\n",
       "  /* fitted */\n",
       "  background-color: var(--sklearn-color-fitted-level-2);\n",
       "}\n",
       "\n",
       "/* Specification for estimator info (e.g. \"i\" and \"?\") */\n",
       "\n",
       "/* Common style for \"i\" and \"?\" */\n",
       "\n",
       ".sk-estimator-doc-link,\n",
       "a:link.sk-estimator-doc-link,\n",
       "a:visited.sk-estimator-doc-link {\n",
       "  float: right;\n",
       "  font-size: smaller;\n",
       "  line-height: 1em;\n",
       "  font-family: monospace;\n",
       "  background-color: var(--sklearn-color-background);\n",
       "  border-radius: 1em;\n",
       "  height: 1em;\n",
       "  width: 1em;\n",
       "  text-decoration: none !important;\n",
       "  margin-left: 0.5em;\n",
       "  text-align: center;\n",
       "  /* unfitted */\n",
       "  border: var(--sklearn-color-unfitted-level-1) 1pt solid;\n",
       "  color: var(--sklearn-color-unfitted-level-1);\n",
       "}\n",
       "\n",
       ".sk-estimator-doc-link.fitted,\n",
       "a:link.sk-estimator-doc-link.fitted,\n",
       "a:visited.sk-estimator-doc-link.fitted {\n",
       "  /* fitted */\n",
       "  border: var(--sklearn-color-fitted-level-1) 1pt solid;\n",
       "  color: var(--sklearn-color-fitted-level-1);\n",
       "}\n",
       "\n",
       "/* On hover */\n",
       "div.sk-estimator:hover .sk-estimator-doc-link:hover,\n",
       ".sk-estimator-doc-link:hover,\n",
       "div.sk-label-container:hover .sk-estimator-doc-link:hover,\n",
       ".sk-estimator-doc-link:hover {\n",
       "  /* unfitted */\n",
       "  background-color: var(--sklearn-color-unfitted-level-3);\n",
       "  color: var(--sklearn-color-background);\n",
       "  text-decoration: none;\n",
       "}\n",
       "\n",
       "div.sk-estimator.fitted:hover .sk-estimator-doc-link.fitted:hover,\n",
       ".sk-estimator-doc-link.fitted:hover,\n",
       "div.sk-label-container:hover .sk-estimator-doc-link.fitted:hover,\n",
       ".sk-estimator-doc-link.fitted:hover {\n",
       "  /* fitted */\n",
       "  background-color: var(--sklearn-color-fitted-level-3);\n",
       "  color: var(--sklearn-color-background);\n",
       "  text-decoration: none;\n",
       "}\n",
       "\n",
       "/* Span, style for the box shown on hovering the info icon */\n",
       ".sk-estimator-doc-link span {\n",
       "  display: none;\n",
       "  z-index: 9999;\n",
       "  position: relative;\n",
       "  font-weight: normal;\n",
       "  right: .2ex;\n",
       "  padding: .5ex;\n",
       "  margin: .5ex;\n",
       "  width: min-content;\n",
       "  min-width: 20ex;\n",
       "  max-width: 50ex;\n",
       "  color: var(--sklearn-color-text);\n",
       "  box-shadow: 2pt 2pt 4pt #999;\n",
       "  /* unfitted */\n",
       "  background: var(--sklearn-color-unfitted-level-0);\n",
       "  border: .5pt solid var(--sklearn-color-unfitted-level-3);\n",
       "}\n",
       "\n",
       ".sk-estimator-doc-link.fitted span {\n",
       "  /* fitted */\n",
       "  background: var(--sklearn-color-fitted-level-0);\n",
       "  border: var(--sklearn-color-fitted-level-3);\n",
       "}\n",
       "\n",
       ".sk-estimator-doc-link:hover span {\n",
       "  display: block;\n",
       "}\n",
       "\n",
       "/* \"?\"-specific style due to the `<a>` HTML tag */\n",
       "\n",
       "#sk-container-id-1 a.estimator_doc_link {\n",
       "  float: right;\n",
       "  font-size: 1rem;\n",
       "  line-height: 1em;\n",
       "  font-family: monospace;\n",
       "  background-color: var(--sklearn-color-background);\n",
       "  border-radius: 1rem;\n",
       "  height: 1rem;\n",
       "  width: 1rem;\n",
       "  text-decoration: none;\n",
       "  /* unfitted */\n",
       "  color: var(--sklearn-color-unfitted-level-1);\n",
       "  border: var(--sklearn-color-unfitted-level-1) 1pt solid;\n",
       "}\n",
       "\n",
       "#sk-container-id-1 a.estimator_doc_link.fitted {\n",
       "  /* fitted */\n",
       "  border: var(--sklearn-color-fitted-level-1) 1pt solid;\n",
       "  color: var(--sklearn-color-fitted-level-1);\n",
       "}\n",
       "\n",
       "/* On hover */\n",
       "#sk-container-id-1 a.estimator_doc_link:hover {\n",
       "  /* unfitted */\n",
       "  background-color: var(--sklearn-color-unfitted-level-3);\n",
       "  color: var(--sklearn-color-background);\n",
       "  text-decoration: none;\n",
       "}\n",
       "\n",
       "#sk-container-id-1 a.estimator_doc_link.fitted:hover {\n",
       "  /* fitted */\n",
       "  background-color: var(--sklearn-color-fitted-level-3);\n",
       "}\n",
       "</style><div id=\"sk-container-id-1\" class=\"sk-top-container\"><div class=\"sk-text-repr-fallback\"><pre>Pipeline(steps=[(&#x27;scale&#x27;, StandardScaler()),\n",
       "                (&#x27;polynomial&#x27;, PolynomialFeatures()),\n",
       "                (&#x27;model&#x27;, LinearRegression())])</pre><b>In a Jupyter environment, please rerun this cell to show the HTML representation or trust the notebook. <br />On GitHub, the HTML representation is unable to render, please try loading this page with nbviewer.org.</b></div><div class=\"sk-container\" hidden><div class=\"sk-item sk-dashed-wrapped\"><div class=\"sk-label-container\"><div class=\"sk-label  sk-toggleable\"><input class=\"sk-toggleable__control sk-hidden--visually\" id=\"sk-estimator-id-1\" type=\"checkbox\" ><label for=\"sk-estimator-id-1\" class=\"sk-toggleable__label  sk-toggleable__label-arrow\"><div><div>Pipeline</div></div><div><a class=\"sk-estimator-doc-link \" rel=\"noreferrer\" target=\"_blank\" href=\"https://scikit-learn.org/1.6/modules/generated/sklearn.pipeline.Pipeline.html\">?<span>Documentation for Pipeline</span></a><span class=\"sk-estimator-doc-link \">i<span>Not fitted</span></span></div></label><div class=\"sk-toggleable__content \"><pre>Pipeline(steps=[(&#x27;scale&#x27;, StandardScaler()),\n",
       "                (&#x27;polynomial&#x27;, PolynomialFeatures()),\n",
       "                (&#x27;model&#x27;, LinearRegression())])</pre></div> </div></div><div class=\"sk-serial\"><div class=\"sk-item\"><div class=\"sk-estimator  sk-toggleable\"><input class=\"sk-toggleable__control sk-hidden--visually\" id=\"sk-estimator-id-2\" type=\"checkbox\" ><label for=\"sk-estimator-id-2\" class=\"sk-toggleable__label  sk-toggleable__label-arrow\"><div><div>StandardScaler</div></div><div><a class=\"sk-estimator-doc-link \" rel=\"noreferrer\" target=\"_blank\" href=\"https://scikit-learn.org/1.6/modules/generated/sklearn.preprocessing.StandardScaler.html\">?<span>Documentation for StandardScaler</span></a></div></label><div class=\"sk-toggleable__content \"><pre>StandardScaler()</pre></div> </div></div><div class=\"sk-item\"><div class=\"sk-estimator  sk-toggleable\"><input class=\"sk-toggleable__control sk-hidden--visually\" id=\"sk-estimator-id-3\" type=\"checkbox\" ><label for=\"sk-estimator-id-3\" class=\"sk-toggleable__label  sk-toggleable__label-arrow\"><div><div>PolynomialFeatures</div></div><div><a class=\"sk-estimator-doc-link \" rel=\"noreferrer\" target=\"_blank\" href=\"https://scikit-learn.org/1.6/modules/generated/sklearn.preprocessing.PolynomialFeatures.html\">?<span>Documentation for PolynomialFeatures</span></a></div></label><div class=\"sk-toggleable__content \"><pre>PolynomialFeatures()</pre></div> </div></div><div class=\"sk-item\"><div class=\"sk-estimator  sk-toggleable\"><input class=\"sk-toggleable__control sk-hidden--visually\" id=\"sk-estimator-id-4\" type=\"checkbox\" ><label for=\"sk-estimator-id-4\" class=\"sk-toggleable__label  sk-toggleable__label-arrow\"><div><div>LinearRegression</div></div><div><a class=\"sk-estimator-doc-link \" rel=\"noreferrer\" target=\"_blank\" href=\"https://scikit-learn.org/1.6/modules/generated/sklearn.linear_model.LinearRegression.html\">?<span>Documentation for LinearRegression</span></a></div></label><div class=\"sk-toggleable__content \"><pre>LinearRegression()</pre></div> </div></div></div></div></div></div>"
      ],
      "text/plain": [
       "Pipeline(steps=[('scale', StandardScaler()),\n",
       "                ('polynomial', PolynomialFeatures()),\n",
       "                ('model', LinearRegression())])"
      ]
     },
     "execution_count": 94,
     "metadata": {},
     "output_type": "execute_result"
    }
   ],
   "source": [
    "\n",
    "Input=[('scale', StandardScaler()), ('polynomial', PolynomialFeatures(degree=2)), ('model', LinearRegression())]\n",
    "\n",
    "pipe=Pipeline(Input)\n",
    "pipe\n",
    "\n"
   ]
  },
  {
   "cell_type": "code",
   "execution_count": 96,
   "id": "53518d1d-1b0b-4c27-92aa-c8535c982775",
   "metadata": {},
   "outputs": [
    {
     "name": "stdout",
     "output_type": "stream",
     "text": [
      "11242.83551996099\n",
      "[ 3.30959926e+03 -1.47416875e-02  1.03502184e+03 -1.35988765e+03]\n"
     ]
    }
   ],
   "source": [
    "dfc.price = dfc.price.astype(int)\n",
    "# Import linear_model from scikit-learn\n",
    "from sklearn.linear_model import LinearRegression\n",
    "# Create a linear regression object using the constructor:\n",
    "lm=LinearRegression()\n",
    "\n",
    "# Use lm.fit(X,y) to fit the model, i.e find the parameters b0 and b1\n",
    "lm.fit(X,y)\n",
    "# obtain a predictor\n",
    "Yhat=lm.predict(X)\n",
    "# Find the intercept(b0)\n",
    "print(lm.intercept_)\n",
    "# Find the coefficients(b1,b2,b3,b4)\n",
    "print(lm.coef_)\n",
    "# y = b0 + b1X1 + b2X2 + b3X3 + b4X4\n",
    "# Price=11207 + (3389)* cylinders - (0.015)* odometer + (1121)* drive - (0.0014)* age\n"
   ]
  },
  {
   "cell_type": "code",
   "execution_count": 98,
   "id": "f0c80386-e766-48ee-a440-59fed5e23dca",
   "metadata": {},
   "outputs": [
    {
     "data": {
      "text/html": [
       "<div>\n",
       "<style scoped>\n",
       "    .dataframe tbody tr th:only-of-type {\n",
       "        vertical-align: middle;\n",
       "    }\n",
       "\n",
       "    .dataframe tbody tr th {\n",
       "        vertical-align: top;\n",
       "    }\n",
       "\n",
       "    .dataframe thead th {\n",
       "        text-align: right;\n",
       "    }\n",
       "</style>\n",
       "<table border=\"1\" class=\"dataframe\">\n",
       "  <thead>\n",
       "    <tr style=\"text-align: right;\">\n",
       "      <th></th>\n",
       "      <th>cylinders</th>\n",
       "      <th>odometer</th>\n",
       "      <th>drive</th>\n",
       "      <th>age</th>\n",
       "      <th>prediction</th>\n",
       "    </tr>\n",
       "  </thead>\n",
       "  <tbody>\n",
       "    <tr>\n",
       "      <th>0</th>\n",
       "      <td>6</td>\n",
       "      <td>128000.0</td>\n",
       "      <td>1</td>\n",
       "      <td>9.0</td>\n",
       "      <td>18009.528093</td>\n",
       "    </tr>\n",
       "    <tr>\n",
       "      <th>1</th>\n",
       "      <td>8</td>\n",
       "      <td>68696.0</td>\n",
       "      <td>3</td>\n",
       "      <td>10.0</td>\n",
       "      <td>26213.123682</td>\n",
       "    </tr>\n",
       "    <tr>\n",
       "      <th>2</th>\n",
       "      <td>6</td>\n",
       "      <td>29499.0</td>\n",
       "      <td>3</td>\n",
       "      <td>6.0</td>\n",
       "      <td>25611.305678</td>\n",
       "    </tr>\n",
       "    <tr>\n",
       "      <th>3</th>\n",
       "      <td>6</td>\n",
       "      <td>43000.0</td>\n",
       "      <td>3</td>\n",
       "      <td>3.0</td>\n",
       "      <td>29491.941102</td>\n",
       "    </tr>\n",
       "    <tr>\n",
       "      <th>4</th>\n",
       "      <td>6</td>\n",
       "      <td>17302.0</td>\n",
       "      <td>3</td>\n",
       "      <td>6.0</td>\n",
       "      <td>25791.110040</td>\n",
       "    </tr>\n",
       "  </tbody>\n",
       "</table>\n",
       "</div>"
      ],
      "text/plain": [
       "   cylinders  odometer  drive   age    prediction\n",
       "0          6  128000.0      1   9.0  18009.528093\n",
       "1          8   68696.0      3  10.0  26213.123682\n",
       "2          6   29499.0      3   6.0  25611.305678\n",
       "3          6   43000.0      3   3.0  29491.941102\n",
       "4          6   17302.0      3   6.0  25791.110040"
      ]
     },
     "execution_count": 98,
     "metadata": {},
     "output_type": "execute_result"
    }
   ],
   "source": [
    "Yhat_df = pd.DataFrame(Yhat, columns=['prediction'])\n",
    "output = pd.concat([X,Yhat_df],axis=1)\n",
    "output.head()"
   ]
  },
  {
   "cell_type": "code",
   "execution_count": 100,
   "id": "d0c20857-3aad-4e3f-b9e7-0e4cf78d121e",
   "metadata": {},
   "outputs": [
    {
     "ename": "NameError",
     "evalue": "name 'dfc_p' is not defined",
     "output_type": "error",
     "traceback": [
      "\u001b[1;31m---------------------------------------------------------------------------\u001b[0m",
      "\u001b[1;31mNameError\u001b[0m                                 Traceback (most recent call last)",
      "Cell \u001b[1;32mIn[100], line 2\u001b[0m\n\u001b[0;32m      1\u001b[0m dfc_with_pred \u001b[38;5;241m=\u001b[39m pd\u001b[38;5;241m.\u001b[39mconcat([dfc, output\u001b[38;5;241m.\u001b[39mprediction],axis\u001b[38;5;241m=\u001b[39m\u001b[38;5;241m1\u001b[39m)\n\u001b[1;32m----> 2\u001b[0m dfc_with_pred\u001b[38;5;241m.\u001b[39mdiff \u001b[38;5;241m=\u001b[39m dfc_p\u001b[38;5;241m.\u001b[39mprice \u001b[38;5;241m-\u001b[39m dfc_p\u001b[38;5;241m.\u001b[39mprediction\n\u001b[0;32m      3\u001b[0m dfc_with_pred[[\u001b[38;5;124m'\u001b[39m\u001b[38;5;124mprice\u001b[39m\u001b[38;5;124m'\u001b[39m,\u001b[38;5;124m'\u001b[39m\u001b[38;5;124mprediction\u001b[39m\u001b[38;5;124m'\u001b[39m]]\n",
      "\u001b[1;31mNameError\u001b[0m: name 'dfc_p' is not defined"
     ]
    }
   ],
   "source": [
    "dfc_with_pred = pd.concat([dfc, output.prediction],axis=1)\n",
    "dfc_with_pred.diff = dfc_p.price - dfc_p.prediction\n",
    "dfc_with_pred[['price','prediction']]"
   ]
  },
  {
   "cell_type": "markdown",
   "id": "b08f2d0a-4431-4ce4-b9ec-bf98cfd5503a",
   "metadata": {},
   "source": [
    "#### Model Evaluation Using Visualization"
   ]
  },
  {
   "cell_type": "markdown",
   "id": "520b0609-cee2-49f0-ae83-eb085e842554",
   "metadata": {},
   "source": [
    "Introduction\n",
    "Kernel Density Estimation (KDE) plots are a valuable tool for visualizing data distributions by estimating their probability density function (PDF). These plots are particularly useful in regression analysis for comparing actual and predicted values. With the deprecation of Seaborn distplot, KDE plots serve as a modern and effective method for assessing model performance.\n",
    "\n",
    "Why Use KDE Plots?\n",
    "KDE plots are beneficial in model evaluation for the following reasons:\n",
    "\n",
    "They provide a smooth approximation of the data distribution.\n",
    "They help compare the true vs. predicted distributions effectively.\n",
    "Unlike histograms, KDE plots are not sensitive to bin sizes.\n",
    "They can highlight deviations between observed and predicted values."
   ]
  },
  {
   "cell_type": "code",
   "execution_count": 539,
   "id": "b83e5bc9-3be0-4d41-a847-9f350eae0df0",
   "metadata": {},
   "outputs": [],
   "source": [
    "# Regression plots\n",
    "# Residual plots (for linear models, variance supposes to be evenly spread out around the x-axis)\n",
    "# Distribution plots (actual values vs. fitted values)"
   ]
  },
  {
   "cell_type": "code",
   "execution_count": 102,
   "id": "8dd72f89-50d7-45fc-a941-70ee369bdc10",
   "metadata": {},
   "outputs": [
    {
     "data": {
      "image/png": "[encoded data removed]",
      "text/plain": [
       "<Figure size 1000x500 with 1 Axes>"
      ]
     },
     "metadata": {},
     "output_type": "display_data"
    }
   ],
   "source": [
    "import seaborn as sns\n",
    "import matplotlib.pyplot as plt\n",
    "\n",
    "plt.figure(figsize=(10, 5))\n",
    "\n",
    "# Plot actual values\n",
    "sns.kdeplot(data=dfc, x='price', color='r', label='Actual Value')\n",
    "# sns.kdeplot(data=dfc, x='price', color='r', label='Actual Value', fill=True)\n",
    "\n",
    "# Plot predicted values\n",
    "sns.kdeplot(Yhat, color='b', label='Fitted Values')\n",
    "# sns.kdeplot(Yhat, color='b', label='Fitted Values', fill=True)\n",
    "\n",
    "plt.title('Distribution of Actual vs. Fitted Values')\n",
    "plt.legend()\n",
    "plt.show()\n",
    "plt.close()\n"
   ]
  },
  {
   "cell_type": "markdown",
   "id": "5bfeeec6-52f0-4335-99f6-0ad67dd2849e",
   "metadata": {},
   "source": []
  },
  {
   "cell_type": "markdown",
   "id": "04aa82e8-2807-4fde-af47-d2916f17e8ed",
   "metadata": {},
   "source": [
    "### Model 2: Polynomial Fit and Pipelines\n",
    "* A special case of the general linear regression model\n",
    "* Useful for describing curvilinear relationships\n",
    "* Yhat = b0 + b1X1 + b2(X1)^2 + b3(X1)^3..."
   ]
  },
  {
   "cell_type": "code",
   "execution_count": 104,
   "id": "2509b540-6654-4d3a-890c-799c450cb424",
   "metadata": {},
   "outputs": [],
   "source": [
    "\n",
    "# using module Pipeline to create a pipeline, also use standardscaler as a step\n",
    "from sklearn.pipeline import Pipeline\n",
    "from sklearn.preprocessing import StandardScaler\n",
    "\n",
    "from sklearn.preprocessing import PolynomialFeatures\n",
    "from sklearn.linear_model import LinearRegression\n",
    "\n",
    "\n"
   ]
  },
  {
   "cell_type": "markdown",
   "id": "6669046c-3a26-42f5-902b-8bc2dcad6576",
   "metadata": {},
   "source": [
    "Create a PolynomialFeature object of degree 2:"
   ]
  },
  {
   "cell_type": "code",
   "execution_count": 107,
   "id": "07df1a14-6c68-4233-9eb7-b155273d2e4f",
   "metadata": {},
   "outputs": [
    {
     "data": {
      "text/html": [
       "<style>#sk-container-id-2 {\n",
       "  /* Definition of color scheme common for light and dark mode */\n",
       "  --sklearn-color-text: #000;\n",
       "  --sklearn-color-text-muted: #666;\n",
       "  --sklearn-color-line: gray;\n",
       "  /* Definition of color scheme for unfitted estimators */\n",
       "  --sklearn-color-unfitted-level-0: #fff5e6;\n",
       "  --sklearn-color-unfitted-level-1: #f6e4d2;\n",
       "  --sklearn-color-unfitted-level-2: #ffe0b3;\n",
       "  --sklearn-color-unfitted-level-3: chocolate;\n",
       "  /* Definition of color scheme for fitted estimators */\n",
       "  --sklearn-color-fitted-level-0: #f0f8ff;\n",
       "  --sklearn-color-fitted-level-1: #d4ebff;\n",
       "  --sklearn-color-fitted-level-2: #b3dbfd;\n",
       "  --sklearn-color-fitted-level-3: cornflowerblue;\n",
       "\n",
       "  /* Specific color for light theme */\n",
       "  --sklearn-color-text-on-default-background: var(--sg-text-color, var(--theme-code-foreground, var(--jp-content-font-color1, black)));\n",
       "  --sklearn-color-background: var(--sg-background-color, var(--theme-background, var(--jp-layout-color0, white)));\n",
       "  --sklearn-color-border-box: var(--sg-text-color, var(--theme-code-foreground, var(--jp-content-font-color1, black)));\n",
       "  --sklearn-color-icon: #696969;\n",
       "\n",
       "  @media (prefers-color-scheme: dark) {\n",
       "    /* Redefinition of color scheme for dark theme */\n",
       "    --sklearn-color-text-on-default-background: var(--sg-text-color, var(--theme-code-foreground, var(--jp-content-font-color1, white)));\n",
       "    --sklearn-color-background: var(--sg-background-color, var(--theme-background, var(--jp-layout-color0, #111)));\n",
       "    --sklearn-color-border-box: var(--sg-text-color, var(--theme-code-foreground, var(--jp-content-font-color1, white)));\n",
       "    --sklearn-color-icon: #878787;\n",
       "  }\n",
       "}\n",
       "\n",
       "#sk-container-id-2 {\n",
       "  color: var(--sklearn-color-text);\n",
       "}\n",
       "\n",
       "#sk-container-id-2 pre {\n",
       "  padding: 0;\n",
       "}\n",
       "\n",
       "#sk-container-id-2 input.sk-hidden--visually {\n",
       "  border: 0;\n",
       "  clip: rect(1px 1px 1px 1px);\n",
       "  clip: rect(1px, 1px, 1px, 1px);\n",
       "  height: 1px;\n",
       "  margin: -1px;\n",
       "  overflow: hidden;\n",
       "  padding: 0;\n",
       "  position: absolute;\n",
       "  width: 1px;\n",
       "}\n",
       "\n",
       "#sk-container-id-2 div.sk-dashed-wrapped {\n",
       "  border: 1px dashed var(--sklearn-color-line);\n",
       "  margin: 0 0.4em 0.5em 0.4em;\n",
       "  box-sizing: border-box;\n",
       "  padding-bottom: 0.4em;\n",
       "  background-color: var(--sklearn-color-background);\n",
       "}\n",
       "\n",
       "#sk-container-id-2 div.sk-container {\n",
       "  /* jupyter's `normalize.less` sets `[hidden] { display: none; }`\n",
       "     but bootstrap.min.css set `[hidden] { display: none !important; }`\n",
       "     so we also need the `!important` here to be able to override the\n",
       "     default hidden behavior on the sphinx rendered scikit-learn.org.\n",
       "     See: https://github.com/scikit-learn/scikit-learn/issues/21755 */\n",
       "  display: inline-block !important;\n",
       "  position: relative;\n",
       "}\n",
       "\n",
       "#sk-container-id-2 div.sk-text-repr-fallback {\n",
       "  display: none;\n",
       "}\n",
       "\n",
       "div.sk-parallel-item,\n",
       "div.sk-serial,\n",
       "div.sk-item {\n",
       "  /* draw centered vertical line to link estimators */\n",
       "  background-image: linear-gradient(var(--sklearn-color-text-on-default-background), var(--sklearn-color-text-on-default-background));\n",
       "  background-size: 2px 100%;\n",
       "  background-repeat: no-repeat;\n",
       "  background-position: center center;\n",
       "}\n",
       "\n",
       "/* Parallel-specific style estimator block */\n",
       "\n",
       "#sk-container-id-2 div.sk-parallel-item::after {\n",
       "  content: \"\";\n",
       "  width: 100%;\n",
       "  border-bottom: 2px solid var(--sklearn-color-text-on-default-background);\n",
       "  flex-grow: 1;\n",
       "}\n",
       "\n",
       "#sk-container-id-2 div.sk-parallel {\n",
       "  display: flex;\n",
       "  align-items: stretch;\n",
       "  justify-content: center;\n",
       "  background-color: var(--sklearn-color-background);\n",
       "  position: relative;\n",
       "}\n",
       "\n",
       "#sk-container-id-2 div.sk-parallel-item {\n",
       "  display: flex;\n",
       "  flex-direction: column;\n",
       "}\n",
       "\n",
       "#sk-container-id-2 div.sk-parallel-item:first-child::after {\n",
       "  align-self: flex-end;\n",
       "  width: 50%;\n",
       "}\n",
       "\n",
       "#sk-container-id-2 div.sk-parallel-item:last-child::after {\n",
       "  align-self: flex-start;\n",
       "  width: 50%;\n",
       "}\n",
       "\n",
       "#sk-container-id-2 div.sk-parallel-item:only-child::after {\n",
       "  width: 0;\n",
       "}\n",
       "\n",
       "/* Serial-specific style estimator block */\n",
       "\n",
       "#sk-container-id-2 div.sk-serial {\n",
       "  display: flex;\n",
       "  flex-direction: column;\n",
       "  align-items: center;\n",
       "  background-color: var(--sklearn-color-background);\n",
       "  padding-right: 1em;\n",
       "  padding-left: 1em;\n",
       "}\n",
       "\n",
       "\n",
       "/* Toggleable style: style used for estimator/Pipeline/ColumnTransformer box that is\n",
       "clickable and can be expanded/collapsed.\n",
       "- Pipeline and ColumnTransformer use this feature and define the default style\n",
       "- Estimators will overwrite some part of the style using the `sk-estimator` class\n",
       "*/\n",
       "\n",
       "/* Pipeline and ColumnTransformer style (default) */\n",
       "\n",
       "#sk-container-id-2 div.sk-toggleable {\n",
       "  /* Default theme specific background. It is overwritten whether we have a\n",
       "  specific estimator or a Pipeline/ColumnTransformer */\n",
       "  background-color: var(--sklearn-color-background);\n",
       "}\n",
       "\n",
       "/* Toggleable label */\n",
       "#sk-container-id-2 label.sk-toggleable__label {\n",
       "  cursor: pointer;\n",
       "  display: flex;\n",
       "  width: 100%;\n",
       "  margin-bottom: 0;\n",
       "  padding: 0.5em;\n",
       "  box-sizing: border-box;\n",
       "  text-align: center;\n",
       "  align-items: start;\n",
       "  justify-content: space-between;\n",
       "  gap: 0.5em;\n",
       "}\n",
       "\n",
       "#sk-container-id-2 label.sk-toggleable__label .caption {\n",
       "  font-size: 0.6rem;\n",
       "  font-weight: lighter;\n",
       "  color: var(--sklearn-color-text-muted);\n",
       "}\n",
       "\n",
       "#sk-container-id-2 label.sk-toggleable__label-arrow:before {\n",
       "  /* Arrow on the left of the label */\n",
       "  content: \"▸\";\n",
       "  float: left;\n",
       "  margin-right: 0.25em;\n",
       "  color: var(--sklearn-color-icon);\n",
       "}\n",
       "\n",
       "#sk-container-id-2 label.sk-toggleable__label-arrow:hover:before {\n",
       "  color: var(--sklearn-color-text);\n",
       "}\n",
       "\n",
       "/* Toggleable content - dropdown */\n",
       "\n",
       "#sk-container-id-2 div.sk-toggleable__content {\n",
       "  max-height: 0;\n",
       "  max-width: 0;\n",
       "  overflow: hidden;\n",
       "  text-align: left;\n",
       "  /* unfitted */\n",
       "  background-color: var(--sklearn-color-unfitted-level-0);\n",
       "}\n",
       "\n",
       "#sk-container-id-2 div.sk-toggleable__content.fitted {\n",
       "  /* fitted */\n",
       "  background-color: var(--sklearn-color-fitted-level-0);\n",
       "}\n",
       "\n",
       "#sk-container-id-2 div.sk-toggleable__content pre {\n",
       "  margin: 0.2em;\n",
       "  border-radius: 0.25em;\n",
       "  color: var(--sklearn-color-text);\n",
       "  /* unfitted */\n",
       "  background-color: var(--sklearn-color-unfitted-level-0);\n",
       "}\n",
       "\n",
       "#sk-container-id-2 div.sk-toggleable__content.fitted pre {\n",
       "  /* unfitted */\n",
       "  background-color: var(--sklearn-color-fitted-level-0);\n",
       "}\n",
       "\n",
       "#sk-container-id-2 input.sk-toggleable__control:checked~div.sk-toggleable__content {\n",
       "  /* Expand drop-down */\n",
       "  max-height: 200px;\n",
       "  max-width: 100%;\n",
       "  overflow: auto;\n",
       "}\n",
       "\n",
       "#sk-container-id-2 input.sk-toggleable__control:checked~label.sk-toggleable__label-arrow:before {\n",
       "  content: \"▾\";\n",
       "}\n",
       "\n",
       "/* Pipeline/ColumnTransformer-specific style */\n",
       "\n",
       "#sk-container-id-2 div.sk-label input.sk-toggleable__control:checked~label.sk-toggleable__label {\n",
       "  color: var(--sklearn-color-text);\n",
       "  background-color: var(--sklearn-color-unfitted-level-2);\n",
       "}\n",
       "\n",
       "#sk-container-id-2 div.sk-label.fitted input.sk-toggleable__control:checked~label.sk-toggleable__label {\n",
       "  background-color: var(--sklearn-color-fitted-level-2);\n",
       "}\n",
       "\n",
       "/* Estimator-specific style */\n",
       "\n",
       "/* Colorize estimator box */\n",
       "#sk-container-id-2 div.sk-estimator input.sk-toggleable__control:checked~label.sk-toggleable__label {\n",
       "  /* unfitted */\n",
       "  background-color: var(--sklearn-color-unfitted-level-2);\n",
       "}\n",
       "\n",
       "#sk-container-id-2 div.sk-estimator.fitted input.sk-toggleable__control:checked~label.sk-toggleable__label {\n",
       "  /* fitted */\n",
       "  background-color: var(--sklearn-color-fitted-level-2);\n",
       "}\n",
       "\n",
       "#sk-container-id-2 div.sk-label label.sk-toggleable__label,\n",
       "#sk-container-id-2 div.sk-label label {\n",
       "  /* The background is the default theme color */\n",
       "  color: var(--sklearn-color-text-on-default-background);\n",
       "}\n",
       "\n",
       "/* On hover, darken the color of the background */\n",
       "#sk-container-id-2 div.sk-label:hover label.sk-toggleable__label {\n",
       "  color: var(--sklearn-color-text);\n",
       "  background-color: var(--sklearn-color-unfitted-level-2);\n",
       "}\n",
       "\n",
       "/* Label box, darken color on hover, fitted */\n",
       "#sk-container-id-2 div.sk-label.fitted:hover label.sk-toggleable__label.fitted {\n",
       "  color: var(--sklearn-color-text);\n",
       "  background-color: var(--sklearn-color-fitted-level-2);\n",
       "}\n",
       "\n",
       "/* Estimator label */\n",
       "\n",
       "#sk-container-id-2 div.sk-label label {\n",
       "  font-family: monospace;\n",
       "  font-weight: bold;\n",
       "  display: inline-block;\n",
       "  line-height: 1.2em;\n",
       "}\n",
       "\n",
       "#sk-container-id-2 div.sk-label-container {\n",
       "  text-align: center;\n",
       "}\n",
       "\n",
       "/* Estimator-specific */\n",
       "#sk-container-id-2 div.sk-estimator {\n",
       "  font-family: monospace;\n",
       "  border: 1px dotted var(--sklearn-color-border-box);\n",
       "  border-radius: 0.25em;\n",
       "  box-sizing: border-box;\n",
       "  margin-bottom: 0.5em;\n",
       "  /* unfitted */\n",
       "  background-color: var(--sklearn-color-unfitted-level-0);\n",
       "}\n",
       "\n",
       "#sk-container-id-2 div.sk-estimator.fitted {\n",
       "  /* fitted */\n",
       "  background-color: var(--sklearn-color-fitted-level-0);\n",
       "}\n",
       "\n",
       "/* on hover */\n",
       "#sk-container-id-2 div.sk-estimator:hover {\n",
       "  /* unfitted */\n",
       "  background-color: var(--sklearn-color-unfitted-level-2);\n",
       "}\n",
       "\n",
       "#sk-container-id-2 div.sk-estimator.fitted:hover {\n",
       "  /* fitted */\n",
       "  background-color: var(--sklearn-color-fitted-level-2);\n",
       "}\n",
       "\n",
       "/* Specification for estimator info (e.g. \"i\" and \"?\") */\n",
       "\n",
       "/* Common style for \"i\" and \"?\" */\n",
       "\n",
       ".sk-estimator-doc-link,\n",
       "a:link.sk-estimator-doc-link,\n",
       "a:visited.sk-estimator-doc-link {\n",
       "  float: right;\n",
       "  font-size: smaller;\n",
       "  line-height: 1em;\n",
       "  font-family: monospace;\n",
       "  background-color: var(--sklearn-color-background);\n",
       "  border-radius: 1em;\n",
       "  height: 1em;\n",
       "  width: 1em;\n",
       "  text-decoration: none !important;\n",
       "  margin-left: 0.5em;\n",
       "  text-align: center;\n",
       "  /* unfitted */\n",
       "  border: var(--sklearn-color-unfitted-level-1) 1pt solid;\n",
       "  color: var(--sklearn-color-unfitted-level-1);\n",
       "}\n",
       "\n",
       ".sk-estimator-doc-link.fitted,\n",
       "a:link.sk-estimator-doc-link.fitted,\n",
       "a:visited.sk-estimator-doc-link.fitted {\n",
       "  /* fitted */\n",
       "  border: var(--sklearn-color-fitted-level-1) 1pt solid;\n",
       "  color: var(--sklearn-color-fitted-level-1);\n",
       "}\n",
       "\n",
       "/* On hover */\n",
       "div.sk-estimator:hover .sk-estimator-doc-link:hover,\n",
       ".sk-estimator-doc-link:hover,\n",
       "div.sk-label-container:hover .sk-estimator-doc-link:hover,\n",
       ".sk-estimator-doc-link:hover {\n",
       "  /* unfitted */\n",
       "  background-color: var(--sklearn-color-unfitted-level-3);\n",
       "  color: var(--sklearn-color-background);\n",
       "  text-decoration: none;\n",
       "}\n",
       "\n",
       "div.sk-estimator.fitted:hover .sk-estimator-doc-link.fitted:hover,\n",
       ".sk-estimator-doc-link.fitted:hover,\n",
       "div.sk-label-container:hover .sk-estimator-doc-link.fitted:hover,\n",
       ".sk-estimator-doc-link.fitted:hover {\n",
       "  /* fitted */\n",
       "  background-color: var(--sklearn-color-fitted-level-3);\n",
       "  color: var(--sklearn-color-background);\n",
       "  text-decoration: none;\n",
       "}\n",
       "\n",
       "/* Span, style for the box shown on hovering the info icon */\n",
       ".sk-estimator-doc-link span {\n",
       "  display: none;\n",
       "  z-index: 9999;\n",
       "  position: relative;\n",
       "  font-weight: normal;\n",
       "  right: .2ex;\n",
       "  padding: .5ex;\n",
       "  margin: .5ex;\n",
       "  width: min-content;\n",
       "  min-width: 20ex;\n",
       "  max-width: 50ex;\n",
       "  color: var(--sklearn-color-text);\n",
       "  box-shadow: 2pt 2pt 4pt #999;\n",
       "  /* unfitted */\n",
       "  background: var(--sklearn-color-unfitted-level-0);\n",
       "  border: .5pt solid var(--sklearn-color-unfitted-level-3);\n",
       "}\n",
       "\n",
       ".sk-estimator-doc-link.fitted span {\n",
       "  /* fitted */\n",
       "  background: var(--sklearn-color-fitted-level-0);\n",
       "  border: var(--sklearn-color-fitted-level-3);\n",
       "}\n",
       "\n",
       ".sk-estimator-doc-link:hover span {\n",
       "  display: block;\n",
       "}\n",
       "\n",
       "/* \"?\"-specific style due to the `<a>` HTML tag */\n",
       "\n",
       "#sk-container-id-2 a.estimator_doc_link {\n",
       "  float: right;\n",
       "  font-size: 1rem;\n",
       "  line-height: 1em;\n",
       "  font-family: monospace;\n",
       "  background-color: var(--sklearn-color-background);\n",
       "  border-radius: 1rem;\n",
       "  height: 1rem;\n",
       "  width: 1rem;\n",
       "  text-decoration: none;\n",
       "  /* unfitted */\n",
       "  color: var(--sklearn-color-unfitted-level-1);\n",
       "  border: var(--sklearn-color-unfitted-level-1) 1pt solid;\n",
       "}\n",
       "\n",
       "#sk-container-id-2 a.estimator_doc_link.fitted {\n",
       "  /* fitted */\n",
       "  border: var(--sklearn-color-fitted-level-1) 1pt solid;\n",
       "  color: var(--sklearn-color-fitted-level-1);\n",
       "}\n",
       "\n",
       "/* On hover */\n",
       "#sk-container-id-2 a.estimator_doc_link:hover {\n",
       "  /* unfitted */\n",
       "  background-color: var(--sklearn-color-unfitted-level-3);\n",
       "  color: var(--sklearn-color-background);\n",
       "  text-decoration: none;\n",
       "}\n",
       "\n",
       "#sk-container-id-2 a.estimator_doc_link.fitted:hover {\n",
       "  /* fitted */\n",
       "  background-color: var(--sklearn-color-fitted-level-3);\n",
       "}\n",
       "</style><div id=\"sk-container-id-2\" class=\"sk-top-container\"><div class=\"sk-text-repr-fallback\"><pre>PolynomialFeatures()</pre><b>In a Jupyter environment, please rerun this cell to show the HTML representation or trust the notebook. <br />On GitHub, the HTML representation is unable to render, please try loading this page with nbviewer.org.</b></div><div class=\"sk-container\" hidden><div class=\"sk-item\"><div class=\"sk-estimator  sk-toggleable\"><input class=\"sk-toggleable__control sk-hidden--visually\" id=\"sk-estimator-id-5\" type=\"checkbox\" checked><label for=\"sk-estimator-id-5\" class=\"sk-toggleable__label  sk-toggleable__label-arrow\"><div><div>PolynomialFeatures</div></div><div><a class=\"sk-estimator-doc-link \" rel=\"noreferrer\" target=\"_blank\" href=\"https://scikit-learn.org/1.6/modules/generated/sklearn.preprocessing.PolynomialFeatures.html\">?<span>Documentation for PolynomialFeatures</span></a><span class=\"sk-estimator-doc-link \">i<span>Not fitted</span></span></div></label><div class=\"sk-toggleable__content \"><pre>PolynomialFeatures()</pre></div> </div></div></div></div>"
      ],
      "text/plain": [
       "PolynomialFeatures()"
      ]
     },
     "execution_count": 107,
     "metadata": {},
     "output_type": "execute_result"
    }
   ],
   "source": [
    "pr=PolynomialFeatures(degree=2)\n",
    "pr"
   ]
  },
  {
   "cell_type": "code",
   "execution_count": 109,
   "id": "0d51732f-b8bd-4abe-ab4d-c7641b486d76",
   "metadata": {},
   "outputs": [],
   "source": [
    "X_pr=pr.fit_transform(X)"
   ]
  },
  {
   "cell_type": "code",
   "execution_count": 111,
   "id": "b2bbf514-f590-475b-a6bd-74030c3237e2",
   "metadata": {},
   "outputs": [
    {
     "data": {
      "text/plain": [
       "(154112, 4)"
      ]
     },
     "execution_count": 111,
     "metadata": {},
     "output_type": "execute_result"
    }
   ],
   "source": [
    "X.shape"
   ]
  },
  {
   "cell_type": "code",
   "execution_count": 113,
   "id": "0778f97f-6ca9-46c8-9315-4796cc26b44b",
   "metadata": {},
   "outputs": [
    {
     "data": {
      "text/plain": [
       "(154112, 15)"
      ]
     },
     "execution_count": 113,
     "metadata": {},
     "output_type": "execute_result"
    }
   ],
   "source": [
    "X_pr.shape"
   ]
  },
  {
   "cell_type": "markdown",
   "id": "facc33f3-b8e2-45c6-9be4-2b038b5576fd",
   "metadata": {},
   "source": [
    "#### Use Pipelines to Simplify Data Prediction Process\n",
    "* There are many steps to getting a prediction, such as:\n",
    "* Normalization --> Polynomial transform --> Linear Regression\n",
    "* We can simplify the process using a Pipeline\n",
    "* Pipeline use sequencial series transformations, the last step carries out the prediction"
   ]
  },
  {
   "cell_type": "markdown",
   "id": "12e890af-daad-47db-a495-93995ea88ae3",
   "metadata": {},
   "source": [
    "#### Pipe Steps: Normalization --> Polynomial transform --> Linear Regression\n",
    "* The method normalize the data \n",
    "* perform a polynomial transform\n",
    "* then outputs the prediction"
   ]
  },
  {
   "cell_type": "code",
   "execution_count": 117,
   "id": "318b7c9b-cf11-4923-9093-a8231540ea49",
   "metadata": {},
   "outputs": [],
   "source": [
    "\n",
    "# create a pipeline by creating a list of tuples including name of the model and constructor:\n",
    "Input=[('scale',StandardScaler()), ('polynomial',PolynomialFeatures(include_bias=False)), ('model',LinearRegression())]\n"
   ]
  },
  {
   "cell_type": "code",
   "execution_count": 119,
   "id": "9d5920d5-3da9-4c9c-b7e6-64e5f6aa2977",
   "metadata": {},
   "outputs": [
    {
     "data": {
      "text/html": [
       "<style>#sk-container-id-3 {\n",
       "  /* Definition of color scheme common for light and dark mode */\n",
       "  --sklearn-color-text: #000;\n",
       "  --sklearn-color-text-muted: #666;\n",
       "  --sklearn-color-line: gray;\n",
       "  /* Definition of color scheme for unfitted estimators */\n",
       "  --sklearn-color-unfitted-level-0: #fff5e6;\n",
       "  --sklearn-color-unfitted-level-1: #f6e4d2;\n",
       "  --sklearn-color-unfitted-level-2: #ffe0b3;\n",
       "  --sklearn-color-unfitted-level-3: chocolate;\n",
       "  /* Definition of color scheme for fitted estimators */\n",
       "  --sklearn-color-fitted-level-0: #f0f8ff;\n",
       "  --sklearn-color-fitted-level-1: #d4ebff;\n",
       "  --sklearn-color-fitted-level-2: #b3dbfd;\n",
       "  --sklearn-color-fitted-level-3: cornflowerblue;\n",
       "\n",
       "  /* Specific color for light theme */\n",
       "  --sklearn-color-text-on-default-background: var(--sg-text-color, var(--theme-code-foreground, var(--jp-content-font-color1, black)));\n",
       "  --sklearn-color-background: var(--sg-background-color, var(--theme-background, var(--jp-layout-color0, white)));\n",
       "  --sklearn-color-border-box: var(--sg-text-color, var(--theme-code-foreground, var(--jp-content-font-color1, black)));\n",
       "  --sklearn-color-icon: #696969;\n",
       "\n",
       "  @media (prefers-color-scheme: dark) {\n",
       "    /* Redefinition of color scheme for dark theme */\n",
       "    --sklearn-color-text-on-default-background: var(--sg-text-color, var(--theme-code-foreground, var(--jp-content-font-color1, white)));\n",
       "    --sklearn-color-background: var(--sg-background-color, var(--theme-background, var(--jp-layout-color0, #111)));\n",
       "    --sklearn-color-border-box: var(--sg-text-color, var(--theme-code-foreground, var(--jp-content-font-color1, white)));\n",
       "    --sklearn-color-icon: #878787;\n",
       "  }\n",
       "}\n",
       "\n",
       "#sk-container-id-3 {\n",
       "  color: var(--sklearn-color-text);\n",
       "}\n",
       "\n",
       "#sk-container-id-3 pre {\n",
       "  padding: 0;\n",
       "}\n",
       "\n",
       "#sk-container-id-3 input.sk-hidden--visually {\n",
       "  border: 0;\n",
       "  clip: rect(1px 1px 1px 1px);\n",
       "  clip: rect(1px, 1px, 1px, 1px);\n",
       "  height: 1px;\n",
       "  margin: -1px;\n",
       "  overflow: hidden;\n",
       "  padding: 0;\n",
       "  position: absolute;\n",
       "  width: 1px;\n",
       "}\n",
       "\n",
       "#sk-container-id-3 div.sk-dashed-wrapped {\n",
       "  border: 1px dashed var(--sklearn-color-line);\n",
       "  margin: 0 0.4em 0.5em 0.4em;\n",
       "  box-sizing: border-box;\n",
       "  padding-bottom: 0.4em;\n",
       "  background-color: var(--sklearn-color-background);\n",
       "}\n",
       "\n",
       "#sk-container-id-3 div.sk-container {\n",
       "  /* jupyter's `normalize.less` sets `[hidden] { display: none; }`\n",
       "     but bootstrap.min.css set `[hidden] { display: none !important; }`\n",
       "     so we also need the `!important` here to be able to override the\n",
       "     default hidden behavior on the sphinx rendered scikit-learn.org.\n",
       "     See: https://github.com/scikit-learn/scikit-learn/issues/21755 */\n",
       "  display: inline-block !important;\n",
       "  position: relative;\n",
       "}\n",
       "\n",
       "#sk-container-id-3 div.sk-text-repr-fallback {\n",
       "  display: none;\n",
       "}\n",
       "\n",
       "div.sk-parallel-item,\n",
       "div.sk-serial,\n",
       "div.sk-item {\n",
       "  /* draw centered vertical line to link estimators */\n",
       "  background-image: linear-gradient(var(--sklearn-color-text-on-default-background), var(--sklearn-color-text-on-default-background));\n",
       "  background-size: 2px 100%;\n",
       "  background-repeat: no-repeat;\n",
       "  background-position: center center;\n",
       "}\n",
       "\n",
       "/* Parallel-specific style estimator block */\n",
       "\n",
       "#sk-container-id-3 div.sk-parallel-item::after {\n",
       "  content: \"\";\n",
       "  width: 100%;\n",
       "  border-bottom: 2px solid var(--sklearn-color-text-on-default-background);\n",
       "  flex-grow: 1;\n",
       "}\n",
       "\n",
       "#sk-container-id-3 div.sk-parallel {\n",
       "  display: flex;\n",
       "  align-items: stretch;\n",
       "  justify-content: center;\n",
       "  background-color: var(--sklearn-color-background);\n",
       "  position: relative;\n",
       "}\n",
       "\n",
       "#sk-container-id-3 div.sk-parallel-item {\n",
       "  display: flex;\n",
       "  flex-direction: column;\n",
       "}\n",
       "\n",
       "#sk-container-id-3 div.sk-parallel-item:first-child::after {\n",
       "  align-self: flex-end;\n",
       "  width: 50%;\n",
       "}\n",
       "\n",
       "#sk-container-id-3 div.sk-parallel-item:last-child::after {\n",
       "  align-self: flex-start;\n",
       "  width: 50%;\n",
       "}\n",
       "\n",
       "#sk-container-id-3 div.sk-parallel-item:only-child::after {\n",
       "  width: 0;\n",
       "}\n",
       "\n",
       "/* Serial-specific style estimator block */\n",
       "\n",
       "#sk-container-id-3 div.sk-serial {\n",
       "  display: flex;\n",
       "  flex-direction: column;\n",
       "  align-items: center;\n",
       "  background-color: var(--sklearn-color-background);\n",
       "  padding-right: 1em;\n",
       "  padding-left: 1em;\n",
       "}\n",
       "\n",
       "\n",
       "/* Toggleable style: style used for estimator/Pipeline/ColumnTransformer box that is\n",
       "clickable and can be expanded/collapsed.\n",
       "- Pipeline and ColumnTransformer use this feature and define the default style\n",
       "- Estimators will overwrite some part of the style using the `sk-estimator` class\n",
       "*/\n",
       "\n",
       "/* Pipeline and ColumnTransformer style (default) */\n",
       "\n",
       "#sk-container-id-3 div.sk-toggleable {\n",
       "  /* Default theme specific background. It is overwritten whether we have a\n",
       "  specific estimator or a Pipeline/ColumnTransformer */\n",
       "  background-color: var(--sklearn-color-background);\n",
       "}\n",
       "\n",
       "/* Toggleable label */\n",
       "#sk-container-id-3 label.sk-toggleable__label {\n",
       "  cursor: pointer;\n",
       "  display: flex;\n",
       "  width: 100%;\n",
       "  margin-bottom: 0;\n",
       "  padding: 0.5em;\n",
       "  box-sizing: border-box;\n",
       "  text-align: center;\n",
       "  align-items: start;\n",
       "  justify-content: space-between;\n",
       "  gap: 0.5em;\n",
       "}\n",
       "\n",
       "#sk-container-id-3 label.sk-toggleable__label .caption {\n",
       "  font-size: 0.6rem;\n",
       "  font-weight: lighter;\n",
       "  color: var(--sklearn-color-text-muted);\n",
       "}\n",
       "\n",
       "#sk-container-id-3 label.sk-toggleable__label-arrow:before {\n",
       "  /* Arrow on the left of the label */\n",
       "  content: \"▸\";\n",
       "  float: left;\n",
       "  margin-right: 0.25em;\n",
       "  color: var(--sklearn-color-icon);\n",
       "}\n",
       "\n",
       "#sk-container-id-3 label.sk-toggleable__label-arrow:hover:before {\n",
       "  color: var(--sklearn-color-text);\n",
       "}\n",
       "\n",
       "/* Toggleable content - dropdown */\n",
       "\n",
       "#sk-container-id-3 div.sk-toggleable__content {\n",
       "  max-height: 0;\n",
       "  max-width: 0;\n",
       "  overflow: hidden;\n",
       "  text-align: left;\n",
       "  /* unfitted */\n",
       "  background-color: var(--sklearn-color-unfitted-level-0);\n",
       "}\n",
       "\n",
       "#sk-container-id-3 div.sk-toggleable__content.fitted {\n",
       "  /* fitted */\n",
       "  background-color: var(--sklearn-color-fitted-level-0);\n",
       "}\n",
       "\n",
       "#sk-container-id-3 div.sk-toggleable__content pre {\n",
       "  margin: 0.2em;\n",
       "  border-radius: 0.25em;\n",
       "  color: var(--sklearn-color-text);\n",
       "  /* unfitted */\n",
       "  background-color: var(--sklearn-color-unfitted-level-0);\n",
       "}\n",
       "\n",
       "#sk-container-id-3 div.sk-toggleable__content.fitted pre {\n",
       "  /* unfitted */\n",
       "  background-color: var(--sklearn-color-fitted-level-0);\n",
       "}\n",
       "\n",
       "#sk-container-id-3 input.sk-toggleable__control:checked~div.sk-toggleable__content {\n",
       "  /* Expand drop-down */\n",
       "  max-height: 200px;\n",
       "  max-width: 100%;\n",
       "  overflow: auto;\n",
       "}\n",
       "\n",
       "#sk-container-id-3 input.sk-toggleable__control:checked~label.sk-toggleable__label-arrow:before {\n",
       "  content: \"▾\";\n",
       "}\n",
       "\n",
       "/* Pipeline/ColumnTransformer-specific style */\n",
       "\n",
       "#sk-container-id-3 div.sk-label input.sk-toggleable__control:checked~label.sk-toggleable__label {\n",
       "  color: var(--sklearn-color-text);\n",
       "  background-color: var(--sklearn-color-unfitted-level-2);\n",
       "}\n",
       "\n",
       "#sk-container-id-3 div.sk-label.fitted input.sk-toggleable__control:checked~label.sk-toggleable__label {\n",
       "  background-color: var(--sklearn-color-fitted-level-2);\n",
       "}\n",
       "\n",
       "/* Estimator-specific style */\n",
       "\n",
       "/* Colorize estimator box */\n",
       "#sk-container-id-3 div.sk-estimator input.sk-toggleable__control:checked~label.sk-toggleable__label {\n",
       "  /* unfitted */\n",
       "  background-color: var(--sklearn-color-unfitted-level-2);\n",
       "}\n",
       "\n",
       "#sk-container-id-3 div.sk-estimator.fitted input.sk-toggleable__control:checked~label.sk-toggleable__label {\n",
       "  /* fitted */\n",
       "  background-color: var(--sklearn-color-fitted-level-2);\n",
       "}\n",
       "\n",
       "#sk-container-id-3 div.sk-label label.sk-toggleable__label,\n",
       "#sk-container-id-3 div.sk-label label {\n",
       "  /* The background is the default theme color */\n",
       "  color: var(--sklearn-color-text-on-default-background);\n",
       "}\n",
       "\n",
       "/* On hover, darken the color of the background */\n",
       "#sk-container-id-3 div.sk-label:hover label.sk-toggleable__label {\n",
       "  color: var(--sklearn-color-text);\n",
       "  background-color: var(--sklearn-color-unfitted-level-2);\n",
       "}\n",
       "\n",
       "/* Label box, darken color on hover, fitted */\n",
       "#sk-container-id-3 div.sk-label.fitted:hover label.sk-toggleable__label.fitted {\n",
       "  color: var(--sklearn-color-text);\n",
       "  background-color: var(--sklearn-color-fitted-level-2);\n",
       "}\n",
       "\n",
       "/* Estimator label */\n",
       "\n",
       "#sk-container-id-3 div.sk-label label {\n",
       "  font-family: monospace;\n",
       "  font-weight: bold;\n",
       "  display: inline-block;\n",
       "  line-height: 1.2em;\n",
       "}\n",
       "\n",
       "#sk-container-id-3 div.sk-label-container {\n",
       "  text-align: center;\n",
       "}\n",
       "\n",
       "/* Estimator-specific */\n",
       "#sk-container-id-3 div.sk-estimator {\n",
       "  font-family: monospace;\n",
       "  border: 1px dotted var(--sklearn-color-border-box);\n",
       "  border-radius: 0.25em;\n",
       "  box-sizing: border-box;\n",
       "  margin-bottom: 0.5em;\n",
       "  /* unfitted */\n",
       "  background-color: var(--sklearn-color-unfitted-level-0);\n",
       "}\n",
       "\n",
       "#sk-container-id-3 div.sk-estimator.fitted {\n",
       "  /* fitted */\n",
       "  background-color: var(--sklearn-color-fitted-level-0);\n",
       "}\n",
       "\n",
       "/* on hover */\n",
       "#sk-container-id-3 div.sk-estimator:hover {\n",
       "  /* unfitted */\n",
       "  background-color: var(--sklearn-color-unfitted-level-2);\n",
       "}\n",
       "\n",
       "#sk-container-id-3 div.sk-estimator.fitted:hover {\n",
       "  /* fitted */\n",
       "  background-color: var(--sklearn-color-fitted-level-2);\n",
       "}\n",
       "\n",
       "/* Specification for estimator info (e.g. \"i\" and \"?\") */\n",
       "\n",
       "/* Common style for \"i\" and \"?\" */\n",
       "\n",
       ".sk-estimator-doc-link,\n",
       "a:link.sk-estimator-doc-link,\n",
       "a:visited.sk-estimator-doc-link {\n",
       "  float: right;\n",
       "  font-size: smaller;\n",
       "  line-height: 1em;\n",
       "  font-family: monospace;\n",
       "  background-color: var(--sklearn-color-background);\n",
       "  border-radius: 1em;\n",
       "  height: 1em;\n",
       "  width: 1em;\n",
       "  text-decoration: none !important;\n",
       "  margin-left: 0.5em;\n",
       "  text-align: center;\n",
       "  /* unfitted */\n",
       "  border: var(--sklearn-color-unfitted-level-1) 1pt solid;\n",
       "  color: var(--sklearn-color-unfitted-level-1);\n",
       "}\n",
       "\n",
       ".sk-estimator-doc-link.fitted,\n",
       "a:link.sk-estimator-doc-link.fitted,\n",
       "a:visited.sk-estimator-doc-link.fitted {\n",
       "  /* fitted */\n",
       "  border: var(--sklearn-color-fitted-level-1) 1pt solid;\n",
       "  color: var(--sklearn-color-fitted-level-1);\n",
       "}\n",
       "\n",
       "/* On hover */\n",
       "div.sk-estimator:hover .sk-estimator-doc-link:hover,\n",
       ".sk-estimator-doc-link:hover,\n",
       "div.sk-label-container:hover .sk-estimator-doc-link:hover,\n",
       ".sk-estimator-doc-link:hover {\n",
       "  /* unfitted */\n",
       "  background-color: var(--sklearn-color-unfitted-level-3);\n",
       "  color: var(--sklearn-color-background);\n",
       "  text-decoration: none;\n",
       "}\n",
       "\n",
       "div.sk-estimator.fitted:hover .sk-estimator-doc-link.fitted:hover,\n",
       ".sk-estimator-doc-link.fitted:hover,\n",
       "div.sk-label-container:hover .sk-estimator-doc-link.fitted:hover,\n",
       ".sk-estimator-doc-link.fitted:hover {\n",
       "  /* fitted */\n",
       "  background-color: var(--sklearn-color-fitted-level-3);\n",
       "  color: var(--sklearn-color-background);\n",
       "  text-decoration: none;\n",
       "}\n",
       "\n",
       "/* Span, style for the box shown on hovering the info icon */\n",
       ".sk-estimator-doc-link span {\n",
       "  display: none;\n",
       "  z-index: 9999;\n",
       "  position: relative;\n",
       "  font-weight: normal;\n",
       "  right: .2ex;\n",
       "  padding: .5ex;\n",
       "  margin: .5ex;\n",
       "  width: min-content;\n",
       "  min-width: 20ex;\n",
       "  max-width: 50ex;\n",
       "  color: var(--sklearn-color-text);\n",
       "  box-shadow: 2pt 2pt 4pt #999;\n",
       "  /* unfitted */\n",
       "  background: var(--sklearn-color-unfitted-level-0);\n",
       "  border: .5pt solid var(--sklearn-color-unfitted-level-3);\n",
       "}\n",
       "\n",
       ".sk-estimator-doc-link.fitted span {\n",
       "  /* fitted */\n",
       "  background: var(--sklearn-color-fitted-level-0);\n",
       "  border: var(--sklearn-color-fitted-level-3);\n",
       "}\n",
       "\n",
       ".sk-estimator-doc-link:hover span {\n",
       "  display: block;\n",
       "}\n",
       "\n",
       "/* \"?\"-specific style due to the `<a>` HTML tag */\n",
       "\n",
       "#sk-container-id-3 a.estimator_doc_link {\n",
       "  float: right;\n",
       "  font-size: 1rem;\n",
       "  line-height: 1em;\n",
       "  font-family: monospace;\n",
       "  background-color: var(--sklearn-color-background);\n",
       "  border-radius: 1rem;\n",
       "  height: 1rem;\n",
       "  width: 1rem;\n",
       "  text-decoration: none;\n",
       "  /* unfitted */\n",
       "  color: var(--sklearn-color-unfitted-level-1);\n",
       "  border: var(--sklearn-color-unfitted-level-1) 1pt solid;\n",
       "}\n",
       "\n",
       "#sk-container-id-3 a.estimator_doc_link.fitted {\n",
       "  /* fitted */\n",
       "  border: var(--sklearn-color-fitted-level-1) 1pt solid;\n",
       "  color: var(--sklearn-color-fitted-level-1);\n",
       "}\n",
       "\n",
       "/* On hover */\n",
       "#sk-container-id-3 a.estimator_doc_link:hover {\n",
       "  /* unfitted */\n",
       "  background-color: var(--sklearn-color-unfitted-level-3);\n",
       "  color: var(--sklearn-color-background);\n",
       "  text-decoration: none;\n",
       "}\n",
       "\n",
       "#sk-container-id-3 a.estimator_doc_link.fitted:hover {\n",
       "  /* fitted */\n",
       "  background-color: var(--sklearn-color-fitted-level-3);\n",
       "}\n",
       "</style><div id=\"sk-container-id-3\" class=\"sk-top-container\"><div class=\"sk-text-repr-fallback\"><pre>Pipeline(steps=[(&#x27;scale&#x27;, StandardScaler()),\n",
       "                (&#x27;polynomial&#x27;, PolynomialFeatures(include_bias=False)),\n",
       "                (&#x27;model&#x27;, LinearRegression())])</pre><b>In a Jupyter environment, please rerun this cell to show the HTML representation or trust the notebook. <br />On GitHub, the HTML representation is unable to render, please try loading this page with nbviewer.org.</b></div><div class=\"sk-container\" hidden><div class=\"sk-item sk-dashed-wrapped\"><div class=\"sk-label-container\"><div class=\"sk-label  sk-toggleable\"><input class=\"sk-toggleable__control sk-hidden--visually\" id=\"sk-estimator-id-6\" type=\"checkbox\" ><label for=\"sk-estimator-id-6\" class=\"sk-toggleable__label  sk-toggleable__label-arrow\"><div><div>Pipeline</div></div><div><a class=\"sk-estimator-doc-link \" rel=\"noreferrer\" target=\"_blank\" href=\"https://scikit-learn.org/1.6/modules/generated/sklearn.pipeline.Pipeline.html\">?<span>Documentation for Pipeline</span></a><span class=\"sk-estimator-doc-link \">i<span>Not fitted</span></span></div></label><div class=\"sk-toggleable__content \"><pre>Pipeline(steps=[(&#x27;scale&#x27;, StandardScaler()),\n",
       "                (&#x27;polynomial&#x27;, PolynomialFeatures(include_bias=False)),\n",
       "                (&#x27;model&#x27;, LinearRegression())])</pre></div> </div></div><div class=\"sk-serial\"><div class=\"sk-item\"><div class=\"sk-estimator  sk-toggleable\"><input class=\"sk-toggleable__control sk-hidden--visually\" id=\"sk-estimator-id-7\" type=\"checkbox\" ><label for=\"sk-estimator-id-7\" class=\"sk-toggleable__label  sk-toggleable__label-arrow\"><div><div>StandardScaler</div></div><div><a class=\"sk-estimator-doc-link \" rel=\"noreferrer\" target=\"_blank\" href=\"https://scikit-learn.org/1.6/modules/generated/sklearn.preprocessing.StandardScaler.html\">?<span>Documentation for StandardScaler</span></a></div></label><div class=\"sk-toggleable__content \"><pre>StandardScaler()</pre></div> </div></div><div class=\"sk-item\"><div class=\"sk-estimator  sk-toggleable\"><input class=\"sk-toggleable__control sk-hidden--visually\" id=\"sk-estimator-id-8\" type=\"checkbox\" ><label for=\"sk-estimator-id-8\" class=\"sk-toggleable__label  sk-toggleable__label-arrow\"><div><div>PolynomialFeatures</div></div><div><a class=\"sk-estimator-doc-link \" rel=\"noreferrer\" target=\"_blank\" href=\"https://scikit-learn.org/1.6/modules/generated/sklearn.preprocessing.PolynomialFeatures.html\">?<span>Documentation for PolynomialFeatures</span></a></div></label><div class=\"sk-toggleable__content \"><pre>PolynomialFeatures(include_bias=False)</pre></div> </div></div><div class=\"sk-item\"><div class=\"sk-estimator  sk-toggleable\"><input class=\"sk-toggleable__control sk-hidden--visually\" id=\"sk-estimator-id-9\" type=\"checkbox\" ><label for=\"sk-estimator-id-9\" class=\"sk-toggleable__label  sk-toggleable__label-arrow\"><div><div>LinearRegression</div></div><div><a class=\"sk-estimator-doc-link \" rel=\"noreferrer\" target=\"_blank\" href=\"https://scikit-learn.org/1.6/modules/generated/sklearn.linear_model.LinearRegression.html\">?<span>Documentation for LinearRegression</span></a></div></label><div class=\"sk-toggleable__content \"><pre>LinearRegression()</pre></div> </div></div></div></div></div></div>"
      ],
      "text/plain": [
       "Pipeline(steps=[('scale', StandardScaler()),\n",
       "                ('polynomial', PolynomialFeatures(include_bias=False)),\n",
       "                ('model', LinearRegression())])"
      ]
     },
     "execution_count": 119,
     "metadata": {},
     "output_type": "execute_result"
    }
   ],
   "source": [
    "# input the list as an argument to the pipeline constructor:\n",
    "pipe=Pipeline(Input)\n",
    "pipe"
   ]
  },
  {
   "cell_type": "code",
   "execution_count": 121,
   "id": "90e7db10-0464-433c-a499-d01326ec717d",
   "metadata": {},
   "outputs": [
    {
     "data": {
      "text/html": [
       "<style>#sk-container-id-4 {\n",
       "  /* Definition of color scheme common for light and dark mode */\n",
       "  --sklearn-color-text: #000;\n",
       "  --sklearn-color-text-muted: #666;\n",
       "  --sklearn-color-line: gray;\n",
       "  /* Definition of color scheme for unfitted estimators */\n",
       "  --sklearn-color-unfitted-level-0: #fff5e6;\n",
       "  --sklearn-color-unfitted-level-1: #f6e4d2;\n",
       "  --sklearn-color-unfitted-level-2: #ffe0b3;\n",
       "  --sklearn-color-unfitted-level-3: chocolate;\n",
       "  /* Definition of color scheme for fitted estimators */\n",
       "  --sklearn-color-fitted-level-0: #f0f8ff;\n",
       "  --sklearn-color-fitted-level-1: #d4ebff;\n",
       "  --sklearn-color-fitted-level-2: #b3dbfd;\n",
       "  --sklearn-color-fitted-level-3: cornflowerblue;\n",
       "\n",
       "  /* Specific color for light theme */\n",
       "  --sklearn-color-text-on-default-background: var(--sg-text-color, var(--theme-code-foreground, var(--jp-content-font-color1, black)));\n",
       "  --sklearn-color-background: var(--sg-background-color, var(--theme-background, var(--jp-layout-color0, white)));\n",
       "  --sklearn-color-border-box: var(--sg-text-color, var(--theme-code-foreground, var(--jp-content-font-color1, black)));\n",
       "  --sklearn-color-icon: #696969;\n",
       "\n",
       "  @media (prefers-color-scheme: dark) {\n",
       "    /* Redefinition of color scheme for dark theme */\n",
       "    --sklearn-color-text-on-default-background: var(--sg-text-color, var(--theme-code-foreground, var(--jp-content-font-color1, white)));\n",
       "    --sklearn-color-background: var(--sg-background-color, var(--theme-background, var(--jp-layout-color0, #111)));\n",
       "    --sklearn-color-border-box: var(--sg-text-color, var(--theme-code-foreground, var(--jp-content-font-color1, white)));\n",
       "    --sklearn-color-icon: #878787;\n",
       "  }\n",
       "}\n",
       "\n",
       "#sk-container-id-4 {\n",
       "  color: var(--sklearn-color-text);\n",
       "}\n",
       "\n",
       "#sk-container-id-4 pre {\n",
       "  padding: 0;\n",
       "}\n",
       "\n",
       "#sk-container-id-4 input.sk-hidden--visually {\n",
       "  border: 0;\n",
       "  clip: rect(1px 1px 1px 1px);\n",
       "  clip: rect(1px, 1px, 1px, 1px);\n",
       "  height: 1px;\n",
       "  margin: -1px;\n",
       "  overflow: hidden;\n",
       "  padding: 0;\n",
       "  position: absolute;\n",
       "  width: 1px;\n",
       "}\n",
       "\n",
       "#sk-container-id-4 div.sk-dashed-wrapped {\n",
       "  border: 1px dashed var(--sklearn-color-line);\n",
       "  margin: 0 0.4em 0.5em 0.4em;\n",
       "  box-sizing: border-box;\n",
       "  padding-bottom: 0.4em;\n",
       "  background-color: var(--sklearn-color-background);\n",
       "}\n",
       "\n",
       "#sk-container-id-4 div.sk-container {\n",
       "  /* jupyter's `normalize.less` sets `[hidden] { display: none; }`\n",
       "     but bootstrap.min.css set `[hidden] { display: none !important; }`\n",
       "     so we also need the `!important` here to be able to override the\n",
       "     default hidden behavior on the sphinx rendered scikit-learn.org.\n",
       "     See: https://github.com/scikit-learn/scikit-learn/issues/21755 */\n",
       "  display: inline-block !important;\n",
       "  position: relative;\n",
       "}\n",
       "\n",
       "#sk-container-id-4 div.sk-text-repr-fallback {\n",
       "  display: none;\n",
       "}\n",
       "\n",
       "div.sk-parallel-item,\n",
       "div.sk-serial,\n",
       "div.sk-item {\n",
       "  /* draw centered vertical line to link estimators */\n",
       "  background-image: linear-gradient(var(--sklearn-color-text-on-default-background), var(--sklearn-color-text-on-default-background));\n",
       "  background-size: 2px 100%;\n",
       "  background-repeat: no-repeat;\n",
       "  background-position: center center;\n",
       "}\n",
       "\n",
       "/* Parallel-specific style estimator block */\n",
       "\n",
       "#sk-container-id-4 div.sk-parallel-item::after {\n",
       "  content: \"\";\n",
       "  width: 100%;\n",
       "  border-bottom: 2px solid var(--sklearn-color-text-on-default-background);\n",
       "  flex-grow: 1;\n",
       "}\n",
       "\n",
       "#sk-container-id-4 div.sk-parallel {\n",
       "  display: flex;\n",
       "  align-items: stretch;\n",
       "  justify-content: center;\n",
       "  background-color: var(--sklearn-color-background);\n",
       "  position: relative;\n",
       "}\n",
       "\n",
       "#sk-container-id-4 div.sk-parallel-item {\n",
       "  display: flex;\n",
       "  flex-direction: column;\n",
       "}\n",
       "\n",
       "#sk-container-id-4 div.sk-parallel-item:first-child::after {\n",
       "  align-self: flex-end;\n",
       "  width: 50%;\n",
       "}\n",
       "\n",
       "#sk-container-id-4 div.sk-parallel-item:last-child::after {\n",
       "  align-self: flex-start;\n",
       "  width: 50%;\n",
       "}\n",
       "\n",
       "#sk-container-id-4 div.sk-parallel-item:only-child::after {\n",
       "  width: 0;\n",
       "}\n",
       "\n",
       "/* Serial-specific style estimator block */\n",
       "\n",
       "#sk-container-id-4 div.sk-serial {\n",
       "  display: flex;\n",
       "  flex-direction: column;\n",
       "  align-items: center;\n",
       "  background-color: var(--sklearn-color-background);\n",
       "  padding-right: 1em;\n",
       "  padding-left: 1em;\n",
       "}\n",
       "\n",
       "\n",
       "/* Toggleable style: style used for estimator/Pipeline/ColumnTransformer box that is\n",
       "clickable and can be expanded/collapsed.\n",
       "- Pipeline and ColumnTransformer use this feature and define the default style\n",
       "- Estimators will overwrite some part of the style using the `sk-estimator` class\n",
       "*/\n",
       "\n",
       "/* Pipeline and ColumnTransformer style (default) */\n",
       "\n",
       "#sk-container-id-4 div.sk-toggleable {\n",
       "  /* Default theme specific background. It is overwritten whether we have a\n",
       "  specific estimator or a Pipeline/ColumnTransformer */\n",
       "  background-color: var(--sklearn-color-background);\n",
       "}\n",
       "\n",
       "/* Toggleable label */\n",
       "#sk-container-id-4 label.sk-toggleable__label {\n",
       "  cursor: pointer;\n",
       "  display: flex;\n",
       "  width: 100%;\n",
       "  margin-bottom: 0;\n",
       "  padding: 0.5em;\n",
       "  box-sizing: border-box;\n",
       "  text-align: center;\n",
       "  align-items: start;\n",
       "  justify-content: space-between;\n",
       "  gap: 0.5em;\n",
       "}\n",
       "\n",
       "#sk-container-id-4 label.sk-toggleable__label .caption {\n",
       "  font-size: 0.6rem;\n",
       "  font-weight: lighter;\n",
       "  color: var(--sklearn-color-text-muted);\n",
       "}\n",
       "\n",
       "#sk-container-id-4 label.sk-toggleable__label-arrow:before {\n",
       "  /* Arrow on the left of the label */\n",
       "  content: \"▸\";\n",
       "  float: left;\n",
       "  margin-right: 0.25em;\n",
       "  color: var(--sklearn-color-icon);\n",
       "}\n",
       "\n",
       "#sk-container-id-4 label.sk-toggleable__label-arrow:hover:before {\n",
       "  color: var(--sklearn-color-text);\n",
       "}\n",
       "\n",
       "/* Toggleable content - dropdown */\n",
       "\n",
       "#sk-container-id-4 div.sk-toggleable__content {\n",
       "  max-height: 0;\n",
       "  max-width: 0;\n",
       "  overflow: hidden;\n",
       "  text-align: left;\n",
       "  /* unfitted */\n",
       "  background-color: var(--sklearn-color-unfitted-level-0);\n",
       "}\n",
       "\n",
       "#sk-container-id-4 div.sk-toggleable__content.fitted {\n",
       "  /* fitted */\n",
       "  background-color: var(--sklearn-color-fitted-level-0);\n",
       "}\n",
       "\n",
       "#sk-container-id-4 div.sk-toggleable__content pre {\n",
       "  margin: 0.2em;\n",
       "  border-radius: 0.25em;\n",
       "  color: var(--sklearn-color-text);\n",
       "  /* unfitted */\n",
       "  background-color: var(--sklearn-color-unfitted-level-0);\n",
       "}\n",
       "\n",
       "#sk-container-id-4 div.sk-toggleable__content.fitted pre {\n",
       "  /* unfitted */\n",
       "  background-color: var(--sklearn-color-fitted-level-0);\n",
       "}\n",
       "\n",
       "#sk-container-id-4 input.sk-toggleable__control:checked~div.sk-toggleable__content {\n",
       "  /* Expand drop-down */\n",
       "  max-height: 200px;\n",
       "  max-width: 100%;\n",
       "  overflow: auto;\n",
       "}\n",
       "\n",
       "#sk-container-id-4 input.sk-toggleable__control:checked~label.sk-toggleable__label-arrow:before {\n",
       "  content: \"▾\";\n",
       "}\n",
       "\n",
       "/* Pipeline/ColumnTransformer-specific style */\n",
       "\n",
       "#sk-container-id-4 div.sk-label input.sk-toggleable__control:checked~label.sk-toggleable__label {\n",
       "  color: var(--sklearn-color-text);\n",
       "  background-color: var(--sklearn-color-unfitted-level-2);\n",
       "}\n",
       "\n",
       "#sk-container-id-4 div.sk-label.fitted input.sk-toggleable__control:checked~label.sk-toggleable__label {\n",
       "  background-color: var(--sklearn-color-fitted-level-2);\n",
       "}\n",
       "\n",
       "/* Estimator-specific style */\n",
       "\n",
       "/* Colorize estimator box */\n",
       "#sk-container-id-4 div.sk-estimator input.sk-toggleable__control:checked~label.sk-toggleable__label {\n",
       "  /* unfitted */\n",
       "  background-color: var(--sklearn-color-unfitted-level-2);\n",
       "}\n",
       "\n",
       "#sk-container-id-4 div.sk-estimator.fitted input.sk-toggleable__control:checked~label.sk-toggleable__label {\n",
       "  /* fitted */\n",
       "  background-color: var(--sklearn-color-fitted-level-2);\n",
       "}\n",
       "\n",
       "#sk-container-id-4 div.sk-label label.sk-toggleable__label,\n",
       "#sk-container-id-4 div.sk-label label {\n",
       "  /* The background is the default theme color */\n",
       "  color: var(--sklearn-color-text-on-default-background);\n",
       "}\n",
       "\n",
       "/* On hover, darken the color of the background */\n",
       "#sk-container-id-4 div.sk-label:hover label.sk-toggleable__label {\n",
       "  color: var(--sklearn-color-text);\n",
       "  background-color: var(--sklearn-color-unfitted-level-2);\n",
       "}\n",
       "\n",
       "/* Label box, darken color on hover, fitted */\n",
       "#sk-container-id-4 div.sk-label.fitted:hover label.sk-toggleable__label.fitted {\n",
       "  color: var(--sklearn-color-text);\n",
       "  background-color: var(--sklearn-color-fitted-level-2);\n",
       "}\n",
       "\n",
       "/* Estimator label */\n",
       "\n",
       "#sk-container-id-4 div.sk-label label {\n",
       "  font-family: monospace;\n",
       "  font-weight: bold;\n",
       "  display: inline-block;\n",
       "  line-height: 1.2em;\n",
       "}\n",
       "\n",
       "#sk-container-id-4 div.sk-label-container {\n",
       "  text-align: center;\n",
       "}\n",
       "\n",
       "/* Estimator-specific */\n",
       "#sk-container-id-4 div.sk-estimator {\n",
       "  font-family: monospace;\n",
       "  border: 1px dotted var(--sklearn-color-border-box);\n",
       "  border-radius: 0.25em;\n",
       "  box-sizing: border-box;\n",
       "  margin-bottom: 0.5em;\n",
       "  /* unfitted */\n",
       "  background-color: var(--sklearn-color-unfitted-level-0);\n",
       "}\n",
       "\n",
       "#sk-container-id-4 div.sk-estimator.fitted {\n",
       "  /* fitted */\n",
       "  background-color: var(--sklearn-color-fitted-level-0);\n",
       "}\n",
       "\n",
       "/* on hover */\n",
       "#sk-container-id-4 div.sk-estimator:hover {\n",
       "  /* unfitted */\n",
       "  background-color: var(--sklearn-color-unfitted-level-2);\n",
       "}\n",
       "\n",
       "#sk-container-id-4 div.sk-estimator.fitted:hover {\n",
       "  /* fitted */\n",
       "  background-color: var(--sklearn-color-fitted-level-2);\n",
       "}\n",
       "\n",
       "/* Specification for estimator info (e.g. \"i\" and \"?\") */\n",
       "\n",
       "/* Common style for \"i\" and \"?\" */\n",
       "\n",
       ".sk-estimator-doc-link,\n",
       "a:link.sk-estimator-doc-link,\n",
       "a:visited.sk-estimator-doc-link {\n",
       "  float: right;\n",
       "  font-size: smaller;\n",
       "  line-height: 1em;\n",
       "  font-family: monospace;\n",
       "  background-color: var(--sklearn-color-background);\n",
       "  border-radius: 1em;\n",
       "  height: 1em;\n",
       "  width: 1em;\n",
       "  text-decoration: none !important;\n",
       "  margin-left: 0.5em;\n",
       "  text-align: center;\n",
       "  /* unfitted */\n",
       "  border: var(--sklearn-color-unfitted-level-1) 1pt solid;\n",
       "  color: var(--sklearn-color-unfitted-level-1);\n",
       "}\n",
       "\n",
       ".sk-estimator-doc-link.fitted,\n",
       "a:link.sk-estimator-doc-link.fitted,\n",
       "a:visited.sk-estimator-doc-link.fitted {\n",
       "  /* fitted */\n",
       "  border: var(--sklearn-color-fitted-level-1) 1pt solid;\n",
       "  color: var(--sklearn-color-fitted-level-1);\n",
       "}\n",
       "\n",
       "/* On hover */\n",
       "div.sk-estimator:hover .sk-estimator-doc-link:hover,\n",
       ".sk-estimator-doc-link:hover,\n",
       "div.sk-label-container:hover .sk-estimator-doc-link:hover,\n",
       ".sk-estimator-doc-link:hover {\n",
       "  /* unfitted */\n",
       "  background-color: var(--sklearn-color-unfitted-level-3);\n",
       "  color: var(--sklearn-color-background);\n",
       "  text-decoration: none;\n",
       "}\n",
       "\n",
       "div.sk-estimator.fitted:hover .sk-estimator-doc-link.fitted:hover,\n",
       ".sk-estimator-doc-link.fitted:hover,\n",
       "div.sk-label-container:hover .sk-estimator-doc-link.fitted:hover,\n",
       ".sk-estimator-doc-link.fitted:hover {\n",
       "  /* fitted */\n",
       "  background-color: var(--sklearn-color-fitted-level-3);\n",
       "  color: var(--sklearn-color-background);\n",
       "  text-decoration: none;\n",
       "}\n",
       "\n",
       "/* Span, style for the box shown on hovering the info icon */\n",
       ".sk-estimator-doc-link span {\n",
       "  display: none;\n",
       "  z-index: 9999;\n",
       "  position: relative;\n",
       "  font-weight: normal;\n",
       "  right: .2ex;\n",
       "  padding: .5ex;\n",
       "  margin: .5ex;\n",
       "  width: min-content;\n",
       "  min-width: 20ex;\n",
       "  max-width: 50ex;\n",
       "  color: var(--sklearn-color-text);\n",
       "  box-shadow: 2pt 2pt 4pt #999;\n",
       "  /* unfitted */\n",
       "  background: var(--sklearn-color-unfitted-level-0);\n",
       "  border: .5pt solid var(--sklearn-color-unfitted-level-3);\n",
       "}\n",
       "\n",
       ".sk-estimator-doc-link.fitted span {\n",
       "  /* fitted */\n",
       "  background: var(--sklearn-color-fitted-level-0);\n",
       "  border: var(--sklearn-color-fitted-level-3);\n",
       "}\n",
       "\n",
       ".sk-estimator-doc-link:hover span {\n",
       "  display: block;\n",
       "}\n",
       "\n",
       "/* \"?\"-specific style due to the `<a>` HTML tag */\n",
       "\n",
       "#sk-container-id-4 a.estimator_doc_link {\n",
       "  float: right;\n",
       "  font-size: 1rem;\n",
       "  line-height: 1em;\n",
       "  font-family: monospace;\n",
       "  background-color: var(--sklearn-color-background);\n",
       "  border-radius: 1rem;\n",
       "  height: 1rem;\n",
       "  width: 1rem;\n",
       "  text-decoration: none;\n",
       "  /* unfitted */\n",
       "  color: var(--sklearn-color-unfitted-level-1);\n",
       "  border: var(--sklearn-color-unfitted-level-1) 1pt solid;\n",
       "}\n",
       "\n",
       "#sk-container-id-4 a.estimator_doc_link.fitted {\n",
       "  /* fitted */\n",
       "  border: var(--sklearn-color-fitted-level-1) 1pt solid;\n",
       "  color: var(--sklearn-color-fitted-level-1);\n",
       "}\n",
       "\n",
       "/* On hover */\n",
       "#sk-container-id-4 a.estimator_doc_link:hover {\n",
       "  /* unfitted */\n",
       "  background-color: var(--sklearn-color-unfitted-level-3);\n",
       "  color: var(--sklearn-color-background);\n",
       "  text-decoration: none;\n",
       "}\n",
       "\n",
       "#sk-container-id-4 a.estimator_doc_link.fitted:hover {\n",
       "  /* fitted */\n",
       "  background-color: var(--sklearn-color-fitted-level-3);\n",
       "}\n",
       "</style><div id=\"sk-container-id-4\" class=\"sk-top-container\"><div class=\"sk-text-repr-fallback\"><pre>Pipeline(steps=[(&#x27;scale&#x27;, StandardScaler()),\n",
       "                (&#x27;polynomial&#x27;, PolynomialFeatures(include_bias=False)),\n",
       "                (&#x27;model&#x27;, LinearRegression())])</pre><b>In a Jupyter environment, please rerun this cell to show the HTML representation or trust the notebook. <br />On GitHub, the HTML representation is unable to render, please try loading this page with nbviewer.org.</b></div><div class=\"sk-container\" hidden><div class=\"sk-item sk-dashed-wrapped\"><div class=\"sk-label-container\"><div class=\"sk-label fitted sk-toggleable\"><input class=\"sk-toggleable__control sk-hidden--visually\" id=\"sk-estimator-id-10\" type=\"checkbox\" ><label for=\"sk-estimator-id-10\" class=\"sk-toggleable__label fitted sk-toggleable__label-arrow\"><div><div>Pipeline</div></div><div><a class=\"sk-estimator-doc-link fitted\" rel=\"noreferrer\" target=\"_blank\" href=\"https://scikit-learn.org/1.6/modules/generated/sklearn.pipeline.Pipeline.html\">?<span>Documentation for Pipeline</span></a><span class=\"sk-estimator-doc-link fitted\">i<span>Fitted</span></span></div></label><div class=\"sk-toggleable__content fitted\"><pre>Pipeline(steps=[(&#x27;scale&#x27;, StandardScaler()),\n",
       "                (&#x27;polynomial&#x27;, PolynomialFeatures(include_bias=False)),\n",
       "                (&#x27;model&#x27;, LinearRegression())])</pre></div> </div></div><div class=\"sk-serial\"><div class=\"sk-item\"><div class=\"sk-estimator fitted sk-toggleable\"><input class=\"sk-toggleable__control sk-hidden--visually\" id=\"sk-estimator-id-11\" type=\"checkbox\" ><label for=\"sk-estimator-id-11\" class=\"sk-toggleable__label fitted sk-toggleable__label-arrow\"><div><div>StandardScaler</div></div><div><a class=\"sk-estimator-doc-link fitted\" rel=\"noreferrer\" target=\"_blank\" href=\"https://scikit-learn.org/1.6/modules/generated/sklearn.preprocessing.StandardScaler.html\">?<span>Documentation for StandardScaler</span></a></div></label><div class=\"sk-toggleable__content fitted\"><pre>StandardScaler()</pre></div> </div></div><div class=\"sk-item\"><div class=\"sk-estimator fitted sk-toggleable\"><input class=\"sk-toggleable__control sk-hidden--visually\" id=\"sk-estimator-id-12\" type=\"checkbox\" ><label for=\"sk-estimator-id-12\" class=\"sk-toggleable__label fitted sk-toggleable__label-arrow\"><div><div>PolynomialFeatures</div></div><div><a class=\"sk-estimator-doc-link fitted\" rel=\"noreferrer\" target=\"_blank\" href=\"https://scikit-learn.org/1.6/modules/generated/sklearn.preprocessing.PolynomialFeatures.html\">?<span>Documentation for PolynomialFeatures</span></a></div></label><div class=\"sk-toggleable__content fitted\"><pre>PolynomialFeatures(include_bias=False)</pre></div> </div></div><div class=\"sk-item\"><div class=\"sk-estimator fitted sk-toggleable\"><input class=\"sk-toggleable__control sk-hidden--visually\" id=\"sk-estimator-id-13\" type=\"checkbox\" ><label for=\"sk-estimator-id-13\" class=\"sk-toggleable__label fitted sk-toggleable__label-arrow\"><div><div>LinearRegression</div></div><div><a class=\"sk-estimator-doc-link fitted\" rel=\"noreferrer\" target=\"_blank\" href=\"https://scikit-learn.org/1.6/modules/generated/sklearn.linear_model.LinearRegression.html\">?<span>Documentation for LinearRegression</span></a></div></label><div class=\"sk-toggleable__content fitted\"><pre>LinearRegression()</pre></div> </div></div></div></div></div></div>"
      ],
      "text/plain": [
       "Pipeline(steps=[('scale', StandardScaler()),\n",
       "                ('polynomial', PolynomialFeatures(include_bias=False)),\n",
       "                ('model', LinearRegression())])"
      ]
     },
     "execution_count": 121,
     "metadata": {},
     "output_type": "execute_result"
    }
   ],
   "source": [
    "# normalize the data and perform a transform and fit the model simultaneously \n",
    "X = X.astype(float)  # standardscaler takes float inputs\n",
    "pipe.fit(X,y)"
   ]
  },
  {
   "cell_type": "code",
   "execution_count": 123,
   "id": "4064da7b-75b8-47e6-a1b5-0f5515094f82",
   "metadata": {},
   "outputs": [
    {
     "data": {
      "text/plain": [
       "array([17400.16846761, 26067.06570603, 28165.73286331, ...,\n",
       "       29901.98933397, 28482.2784291 , 26186.46333625], shape=(154112,))"
      ]
     },
     "execution_count": 123,
     "metadata": {},
     "output_type": "execute_result"
    }
   ],
   "source": [
    "# similarly, we can normalize the data and perform a transform and produce a prediction simu\n",
    "ypipe=pipe.predict(X)\n",
    "ypipe"
   ]
  },
  {
   "cell_type": "markdown",
   "id": "e9b9e272-4e2e-46a4-9a1c-8a6a6a00ee5e",
   "metadata": {},
   "source": [
    "Create a pipeline that standardizes the data and produce a prediction using linear regression model"
   ]
  },
  {
   "cell_type": "markdown",
   "id": "e1e7f3a0-e7e6-40e7-b4c7-8c38d5e2431a",
   "metadata": {},
   "source": [
    "Input=[('scale', StandardScaler()), ('model', LinearRegression())]\n",
    "pipe=Pipeline(Input)\n",
    "pipe.fit(X,y)\n",
    "ypipe=pipe.predict(X)\n",
    "ypipe[0:10]"
   ]
  },
  {
   "cell_type": "markdown",
   "id": "54dc8e42-38ab-46e3-9f52-88e0c1024126",
   "metadata": {},
   "source": [
    "### Prediction and Decision Making"
   ]
  },
  {
   "cell_type": "markdown",
   "id": "af1cf0ce-5256-4f04-b1d0-3154df1f6bb2",
   "metadata": {},
   "source": [
    "#### Measures for In-sample Evaluation\n",
    "* In-sample evaluation only tells us how well our model will fit the data used to train it\n",
    "* It does not tell how well the trained model can be used to predict new data\n",
    "* Mean Squared Error(MSE): the smaller the better\n",
    "* R-squared(R^2) : how close the data is to the fitted line. between 0 to 1"
   ]
  },
  {
   "cell_type": "markdown",
   "id": "8cf2a541-6fd2-4977-9070-75760797da7c",
   "metadata": {},
   "source": [
    "##### MSE CALCULATION: (actual-prediction)^2/n"
   ]
  },
  {
   "cell_type": "code",
   "execution_count": 130,
   "id": "a865b6dd-68ab-4895-991e-f62788c6150d",
   "metadata": {},
   "outputs": [
    {
     "name": "stdout",
     "output_type": "stream",
     "text": [
      "The MSE is:  59656491.258001626\n"
     ]
    }
   ],
   "source": [
    "\n",
    "# import function mean_squared_error from module metrics\n",
    "from sklearn.metrics import mean_squared_error\n",
    "print('The MSE is: ', mean_squared_error(dfc.price, Yhat))"
   ]
  },
  {
   "cell_type": "code",
   "execution_count": 132,
   "id": "8b1a6c79-f108-4ca2-b1e7-6690894e6689",
   "metadata": {},
   "outputs": [
    {
     "name": "stdout",
     "output_type": "stream",
     "text": [
      "The MSE is:  41215229.63094092\n"
     ]
    }
   ],
   "source": [
    "\n",
    "# import function mean_squared_error from module metrics\n",
    "from sklearn.metrics import mean_squared_error\n",
    "print('The MSE is: ', mean_squared_error(dfc.price, ypipe))"
   ]
  },
  {
   "cell_type": "markdown",
   "id": "d664aaff-f05b-4b6d-a12e-707f43d93b01",
   "metadata": {},
   "source": [
    "#### R-square CALCULATION"
   ]
  },
  {
   "cell_type": "code",
   "execution_count": 135,
   "id": "8fd48376-46b0-49a4-aec6-d92fccbea707",
   "metadata": {},
   "outputs": [
    {
     "name": "stdout",
     "output_type": "stream",
     "text": [
      "The R-square value is:  0.5852426113591382\n"
     ]
    }
   ],
   "source": [
    "lm.fit(X, y)\n",
    "print('The R-square value is: ', lm.score(X,y))"
   ]
  },
  {
   "cell_type": "code",
   "execution_count": 137,
   "id": "c6b77f21-ae95-4bca-a713-5a162c93eb30",
   "metadata": {},
   "outputs": [
    {
     "name": "stdout",
     "output_type": "stream",
     "text": [
      "The R-square value is:  0.7134541329285824\n"
     ]
    }
   ],
   "source": [
    "from sklearn.metrics import r2_score\n",
    "\n",
    "\n",
    "r_sq = r2_score(y, ypipe)\n",
    "print('The R-square value is: ', r_sq)"
   ]
  },
  {
   "cell_type": "markdown",
   "id": "cdabba89-5361-4917-ae99-0e5176d38ca6",
   "metadata": {},
   "source": [
    "#### Multiple Linear Regression(MLR) vs. Polynomial Fit"
   ]
  },
  {
   "cell_type": "markdown",
   "id": "532fc145-1643-426e-a0cd-a974956c9d3b",
   "metadata": {},
   "source": [
    "\n",
    "#### Multiple Linear Regression\n",
    "* MSE: 62658313.6689433\n",
    "* R-squared: 0.5863985635312574\n",
    "#### Polynomial Fit\n",
    "* MSE: 43915138.58238987\n",
    "* R-squared: 0.7101204399408685\n"
   ]
  },
  {
   "cell_type": "markdown",
   "id": "5e2fa4b6-5b32-406e-8c71-78b2464fdc00",
   "metadata": {},
   "source": [
    "Since the polynomial Fit resulted in a lower MSE and a higher R-squared, we can conclude that this was a better fit model than the MLR model.\n"
   ]
  },
  {
   "cell_type": "markdown",
   "id": "69138f0b-499f-49e9-8464-e926e7c8cfb6",
   "metadata": {},
   "source": [
    "# Model Refinement"
   ]
  },
  {
   "cell_type": "markdown",
   "id": "63c56cd8-e093-45ef-8e5a-4dd22ec0df37",
   "metadata": {},
   "source": [
    "## Cross validation and prediction"
   ]
  },
  {
   "cell_type": "markdown",
   "id": "7b236205-698b-45a2-a2ef-e5afe0afe391",
   "metadata": {},
   "source": [
    "* Split dataset into: train set 70%, test set 30%\n",
    "* Build and train the model with train set\n",
    "* Test the performance with test set"
   ]
  },
  {
   "cell_type": "code",
   "execution_count": 145,
   "id": "c4ccbb9b-c108-425d-a0db-4862fabd6b70",
   "metadata": {},
   "outputs": [],
   "source": [
    "\n",
    "# import lib\n",
    "# random_state is for random seed generating\n",
    "from sklearn.model_selection import train_test_split\n",
    "x_train,y_train,x_test,y_test = train_test_split(X, y, test_size=0.3,random_state=0)"
   ]
  },
  {
   "cell_type": "markdown",
   "id": "c6169feb-c274-47ae-9521-3dd4c005f687",
   "metadata": {},
   "source": [
    "#### Use cross-validation by splitting the data into folds"
   ]
  },
  {
   "cell_type": "code",
   "execution_count": 148,
   "id": "9efd608c-6327-4ff9-8d41-c31735252f5c",
   "metadata": {},
   "outputs": [
    {
     "data": {
      "text/plain": [
       "np.float64(0.5788639006280171)"
      ]
     },
     "execution_count": 148,
     "metadata": {},
     "output_type": "execute_result"
    }
   ],
   "source": [
    "\n",
    "\n",
    "from sklearn.model_selection import cross_val_score\n",
    "scores= cross_val_score(lm, X, y, cv=3)\n",
    "np.mean(scores)"
   ]
  },
  {
   "cell_type": "code",
   "execution_count": 150,
   "id": "0db6caf2-e70b-47e9-9e0a-8eb6205c940e",
   "metadata": {},
   "outputs": [
    {
     "ename": "NameError",
     "evalue": "name 'lm2e' is not defined",
     "output_type": "error",
     "traceback": [
      "\u001b[1;31m---------------------------------------------------------------------------\u001b[0m",
      "\u001b[1;31mNameError\u001b[0m                                 Traceback (most recent call last)",
      "Cell \u001b[1;32mIn[150], line 5\u001b[0m\n\u001b[0;32m      1\u001b[0m \u001b[38;5;66;03m# function cross_val_predict()\u001b[39;00m\n\u001b[0;32m      2\u001b[0m \u001b[38;5;66;03m# it returns the prediction that was obtained for each element when it was in the test set\u001b[39;00m\n\u001b[0;32m      4\u001b[0m \u001b[38;5;28;01mfrom\u001b[39;00m \u001b[38;5;21;01msklearn\u001b[39;00m\u001b[38;5;21;01m.\u001b[39;00m\u001b[38;5;21;01mmodel_selection\u001b[39;00m \u001b[38;5;28;01mimport\u001b[39;00m cross_val_predict\n\u001b[1;32m----> 5\u001b[0m yhat\u001b[38;5;241m=\u001b[39mcross_val_predict(lm2e, X, y, cv\u001b[38;5;241m=\u001b[39m\u001b[38;5;241m3\u001b[39m)\n",
      "\u001b[1;31mNameError\u001b[0m: name 'lm2e' is not defined"
     ]
    }
   ],
   "source": [
    "\n",
    "# function cross_val_predict()\n",
    "# it returns the prediction that was obtained for each element when it was in the test set\n",
    "\n",
    "from sklearn.model_selection import cross_val_predict\n",
    "yhat=cross_val_predict(lm2e, X, y, cv=3)"
   ]
  },
  {
   "cell_type": "markdown",
   "id": "70d9792f-436c-4020-89ef-5bbd39cc89cd",
   "metadata": {},
   "source": [
    "### Ridge Regression\n",
    "* Ridge regression prevent overfitting.\n",
    "* Ridge regression controls the magnitude of polynomial coefficients by introducing a hyperparameter, alpha.\n",
    "* To determine alpha, you split your data into train and validation data,calculate R-square and store the values.\n",
    "* Repeat the process for different alpha, training the model, make prediction\n",
    "* you select the value of alpha that maximizes R-squared."
   ]
  },
  {
   "cell_type": "markdown",
   "id": "289b9b76-d089-48de-91fa-aa0b946d46c8",
   "metadata": {},
   "source": [
    "#### Ridge regression prevent\n",
    "* The highest alpha value is usually the model with the most underfitting.\n",
    "* The lowest alpha value is usually the model with the most overfitting."
   ]
  },
  {
   "cell_type": "code",
   "execution_count": 152,
   "id": "e279c9b2-3b0e-49a7-88fc-76d7b91bae93",
   "metadata": {},
   "outputs": [],
   "source": [
    "from sklearn.linear_model import Ridge\n",
    "\n",
    "\n",
    "# create Ridge object using constructor\n",
    "RidgeModel=Ridge(alpha=0.1)\n",
    "# train the model\n",
    "RidgeModel.fit(X,y)\n",
    "# make a prediction\n",
    "R_yhat=RidgeModel.predict(X)"
   ]
  },
  {
   "cell_type": "markdown",
   "id": "5550e2c1-fc5a-43d1-baba-e6e778d21fbb",
   "metadata": {},
   "source": [
    "### Grid search\n",
    "* Quickly test multiple parameters\n",
    "* It also has option to normalize data"
   ]
  },
  {
   "cell_type": "code",
   "execution_count": 155,
   "id": "5d2ffcd4-08e2-43e5-9655-48e95e8ec595",
   "metadata": {},
   "outputs": [
    {
     "ename": "NameError",
     "evalue": "name 'x_data' is not defined",
     "output_type": "error",
     "traceback": [
      "\u001b[1;31m---------------------------------------------------------------------------\u001b[0m",
      "\u001b[1;31mNameError\u001b[0m                                 Traceback (most recent call last)",
      "Cell \u001b[1;32mIn[155], line 10\u001b[0m\n\u001b[0;32m      8\u001b[0m Grid1 \u001b[38;5;241m=\u001b[39m GridSearchCV(RR, parameters1, cv\u001b[38;5;241m=\u001b[39m\u001b[38;5;241m4\u001b[39m)\n\u001b[0;32m      9\u001b[0m \u001b[38;5;66;03m# fit the object\u001b[39;00m\n\u001b[1;32m---> 10\u001b[0m Grid1\u001b[38;5;241m.\u001b[39mfit(x_data(X,y))\n\u001b[0;32m     11\u001b[0m \u001b[38;5;66;03m# attrubutor best_estimator, find the best parameter\u001b[39;00m\n\u001b[0;32m     12\u001b[0m Grid1\u001b[38;5;241m.\u001b[39mbest_estimator_\n",
      "\u001b[1;31mNameError\u001b[0m: name 'x_data' is not defined"
     ]
    }
   ],
   "source": [
    "from sklearn.model_selection import GridSearchCV\n",
    "\n",
    "# define dictionary of parameter values\n",
    "parameters1=[{'alpha': [0.001,0.1,1,10,100,1000,10000,100000,1000000]}]\n",
    "# create a ridge regression object model\n",
    "RR=Ridge()\n",
    "# create gridsearchcv object, the inputs are ridge regression object, paramters, number of folds\n",
    "Grid1 = GridSearchCV(RR, parameters1, cv=4)\n",
    "# fit the object\n",
    "Grid1.fit(x_data(X,y))\n",
    "# attrubutor best_estimator, find the best parameter\n",
    "Grid1.best_estimator_\n",
    "scores = Grid1.cv_results_\n",
    "scores['mean_test_score']"
   ]
  },
  {
   "cell_type": "code",
   "execution_count": null,
   "id": "df731d4e-64ef-43db-9d7d-7aac7c5bb733",
   "metadata": {},
   "outputs": [],
   "source": []
  },
  {
   "cell_type": "code",
   "execution_count": null,
   "id": "f4c096b9-a890-4813-bbb8-c581573a0b55",
   "metadata": {},
   "outputs": [],
   "source": []
  },
  {
   "cell_type": "markdown",
   "id": "1af77488-ee6a-4cd0-8d4f-ddf547a0b180",
   "metadata": {},
   "source": [
    "# Concluding Remarks:\n",
    "* Descriptive data analysis shows pupular features or market trends inlude: white color, four wheel drive, followed by front wheel drive. Ford is the most pupular brand.\n",
    "  \n",
    "* Correlation analysis suggested a weak positive correlation between price(dependent variable) and drive type(independent variable), a negative correlation between price(dependent variable) and age and odometer(independent variables).\n",
    "* Inferential analysis suggested Model (odometer + age + cylinders + drive) has a R squared of 0.568, meaning the combination of odometer  + age + cylinders + drive can explain 56.8% variance in the listings."
   ]
  },
  {
   "cell_type": "markdown",
   "id": "0d9f6067-a2b7-4dac-a932-1e0130f4ad4e",
   "metadata": {},
   "source": [
    "### Save the csv file for visualization and analysis using Tableau"
   ]
  },
  {
   "cell_type": "code",
   "execution_count": 157,
   "id": "3a634b5d-4853-4bf7-b95f-d9b561fcf232",
   "metadata": {},
   "outputs": [],
   "source": [
    "\n",
    "# save the file to a csv file for detailed visualization and analysis using Tableau:\n",
    "dfc.to_csv('vehicles_for_tableau.csv', index= False)\n"
   ]
  },
  {
   "cell_type": "code",
   "execution_count": null,
   "id": "1971413b-5086-49c5-8f51-0d5fdc5852f5",
   "metadata": {},
   "outputs": [],
   "source": []
  }
 ],
 "metadata": {
  "kernelspec": {
   "display_name": "Python [conda env:base] *",
   "language": "python",
   "name": "conda-base-py"
  },
  "language_info": {
   "codemirror_mode": {
    "name": "ipython",
    "version": 3
   },
   "file_extension": ".py",
   "mimetype": "text/x-python",
   "name": "python",
   "nbconvert_exporter": "python",
   "pygments_lexer": "ipython3",
   "version": "3.12.7"
  }
 },
 "nbformat": 4,
 "nbformat_minor": 5
}
